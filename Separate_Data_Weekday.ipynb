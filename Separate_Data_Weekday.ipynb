{
 "cells": [
  {
   "cell_type": "code",
   "execution_count": 1,
   "metadata": {},
   "outputs": [],
   "source": [
    "using DataFrames\n",
    "using CSV\n",
    "using Dates"
   ]
  },
  {
   "cell_type": "code",
   "execution_count": 2,
   "metadata": {},
   "outputs": [
    {
     "name": "stdout",
     "output_type": "stream",
     "text": [
      "first(tropomi, 5) = 5×16 DataFrame\n",
      "│ Row │ cornerlat1 │ qa      │ time                        │ timestamp  │ cornerlat2 │ lons     │ cornerlon3 │ cloud      │ cornerlat4 │ cornerlon1 │ cornerlat3 │ cornerlon4 │ no2_error │ no2     │ cornerlon2 │ lats    │\n",
      "│     │ Float64    │ Float64 │ String                      │ Int64      │ Float64    │ Float64  │ Float64    │ Float64    │ Float64    │ Float64    │ Float64    │ Float64    │ Float64   │ Float64 │ Float64    │ Float64 │\n",
      "├─────┼────────────┼─────────┼─────────────────────────────┼────────────┼────────────┼──────────┼────────────┼────────────┼────────────┼────────────┼────────────┼────────────┼───────────┼─────────┼────────────┼─────────┤\n",
      "│ 1   │ 41.969     │ 1.0     │ 2019-07-01T18:04:47.762000Z │ 1562004287 │ 41.9731    │ -70.0832 │ -70.0576   │ 0.00456273 │ 42.032     │ -70.1087   │ 42.0361    │ -70.1242   │ 1.03e-5   │ 1.64e-5 │ -70.0422   │ 42.0026 │\n",
      "│ 2   │ 41.9731    │ 1.0     │ 2019-07-01T18:04:47.762000Z │ 1562004287 │ 41.9773    │ -70.0165 │ -69.9905   │ 8.36e-5    │ 42.0361    │ -70.0422   │ 42.0403    │ -70.0576   │ 1.11e-5   │ 2.47e-5 │ -69.9752   │ 42.0067 │\n",
      "│ 3   │ 41.9691    │ 1.0     │ 2019-07-01T18:04:48.842000Z │ 1562004288 │ 41.9739    │ -70.9852 │ -70.9631   │ 0.0980187  │ 42.0321    │ -71.0071   │ 42.0369    │ -71.0235   │ 1.06e-5   │ 1.68e-5 │ -70.9468   │ 42.003  │\n",
      "│ 4   │ 41.9739    │ 1.0     │ 2019-07-01T18:04:48.842000Z │ 1562004288 │ 41.9786    │ -70.9246 │ -70.9024   │ 0.017418   │ 42.0369    │ -70.9468   │ 42.0416    │ -70.9631   │ 1.24e-5   │ 3.14e-5 │ -70.8861   │ 42.0077 │\n",
      "│ 5   │ 41.9786    │ 1.0     │ 2019-07-01T18:04:48.842000Z │ 1562004288 │ 41.9833    │ -70.8637 │ -70.8412   │ 0.0240158  │ 42.0416    │ -70.8861   │ 42.0462    │ -70.9024   │ 1.19e-5   │ 2.91e-5 │ -70.825    │ 42.0124 │\n"
     ]
    }
   ],
   "source": [
    "tropomi = CSV.read(\"total_output_2019_11_22_july_only.csv\"; copycols=false);\n",
    "@show first(tropomi, 5); # units: moles/m^2"
   ]
  },
  {
   "cell_type": "code",
   "execution_count": 12,
   "metadata": {},
   "outputs": [
    {
     "data": {
      "text/plain": [
       "true"
      ]
     },
     "execution_count": 12,
     "metadata": {},
     "output_type": "execute_result"
    }
   ],
   "source": [
    "5 in 1:5"
   ]
  },
  {
   "cell_type": "code",
   "execution_count": 17,
   "metadata": {},
   "outputs": [],
   "source": [
    "# Prepare output arrays, same as Read_Data\n",
    "output_lons   = Float32[];\n",
    "output_lats   = Float32[];\n",
    "output_no2co  = Float32[];\n",
    "output_no2err = Float32[];\n",
    "output_qa     = Float32[];\n",
    "output_time   = String[];\n",
    "output_timestamp = Int32[];\n",
    "output_cloud  = Float32[];\n",
    "\n",
    "output_cornerlon1 = Float32[];\n",
    "output_cornerlon2 = Float32[];\n",
    "output_cornerlon3 = Float32[];\n",
    "output_cornerlon4 = Float32[];\n",
    "output_cornerlat1 = Float32[];\n",
    "output_cornerlat2 = Float32[];\n",
    "output_cornerlat3 = Float32[];\n",
    "output_cornerlat4 = Float32[];\n",
    "\n",
    "for i = 1:size(tropomi, 1)\n",
    "    # Check the cloud coverage\n",
    "    if tropomi[i, :cloud] > 0.2\n",
    "        continue\n",
    "    end\n",
    "    \n",
    "    time = Dates.unix2datetime(tropomi[i, :timestamp])\n",
    "    if Dates.dayofweek(time) in 1:5\n",
    "        continue\n",
    "    else\n",
    "        # continue\n",
    "    end\n",
    "    \n",
    "    push!(output_lons,  tropomi[i, :lons])\n",
    "    push!(output_lats,  tropomi[i, :lats])\n",
    "    push!(output_no2co, tropomi[i, :no2])\n",
    "    push!(output_no2err, tropomi[i, :no2_error])\n",
    "    push!(output_qa,    tropomi[i, :qa])\n",
    "    push!(output_time,  tropomi[i, :time])\n",
    "    push!(output_timestamp, tropomi[i, :timestamp])\n",
    "    push!(output_cloud, tropomi[i, :cloud])\n",
    "\n",
    "    push!(output_cornerlon1, tropomi[i, :cornerlon1])\n",
    "    push!(output_cornerlon2, tropomi[i, :cornerlon2])\n",
    "    push!(output_cornerlon3, tropomi[i, :cornerlon3])\n",
    "    push!(output_cornerlon4, tropomi[i, :cornerlon4])\n",
    "    push!(output_cornerlat1, tropomi[i, :cornerlat1])\n",
    "    push!(output_cornerlat2, tropomi[i, :cornerlat2])\n",
    "    push!(output_cornerlat3, tropomi[i, :cornerlat3])\n",
    "    push!(output_cornerlat4, tropomi[i, :cornerlat4])\n",
    "end"
   ]
  },
  {
   "cell_type": "code",
   "execution_count": 18,
   "metadata": {},
   "outputs": [
    {
     "data": {
      "text/plain": [
       "\"total_output_2019_11_29_weekend.csv\""
      ]
     },
     "execution_count": 18,
     "metadata": {},
     "output_type": "execute_result"
    }
   ],
   "source": [
    "output = Dict{Symbol,Union{Array{Float32, 1}, Array{String, 1}, Array{Int32, 1}}}(\n",
    "    :lats => output_lats,\n",
    "    :lons => output_lons,\n",
    "    :no2 => output_no2co,\n",
    "    :no2_error => output_no2err,\n",
    "    :qa => output_qa,\n",
    "    :time => output_time,\n",
    "    :timestamp => output_timestamp,\n",
    "    :cloud => output_cloud,\n",
    "\n",
    "    :cornerlon1 => output_cornerlon1,\n",
    "    :cornerlon2 => output_cornerlon2,\n",
    "    :cornerlon3 => output_cornerlon3,\n",
    "    :cornerlon4 => output_cornerlon4,\n",
    "    :cornerlat1 => output_cornerlat1,\n",
    "    :cornerlat2 => output_cornerlat2,\n",
    "    :cornerlat3 => output_cornerlat3,\n",
    "    :cornerlat4 => output_cornerlat4,\n",
    ")\n",
    "\n",
    "output_df = DataFrame(;output...)\n",
    "CSV.write(\"total_output_2019_11_29_weekend.csv\",  DataFrame(output_df), writeheader=true)\n"
   ]
  },
  {
   "cell_type": "code",
   "execution_count": 19,
   "metadata": {},
   "outputs": [
    {
     "data": {
      "text/html": [
       "<table class=\"data-frame\"><thead><tr><th></th><th>cornerlat1</th><th>qa</th><th>time</th><th>timestamp</th><th>cornerlat2</th><th>lons</th></tr><tr><th></th><th>Float32</th><th>Float32</th><th>String</th><th>Int32</th><th>Float32</th><th>Float32</th></tr></thead><tbody><p>4,065 rows × 16 columns (omitted printing of 10 columns)</p><tr><th>1</th><td>41.9805</td><td>1.0</td><td>2019-07-06T16:31:24.011000Z</td><td>1562430684</td><td>42.0271</td><td>-70.1043</td></tr><tr><th>2</th><td>42.0271</td><td>1.0</td><td>2019-07-06T16:31:24.011000Z</td><td>1562430684</td><td>42.0731</td><td>-70.014</td></tr><tr><th>3</th><td>41.9909</td><td>1.0</td><td>2019-07-06T16:31:25.091000Z</td><td>1562430685</td><td>42.0383</td><td>-70.2347</td></tr><tr><th>4</th><td>42.0383</td><td>1.0</td><td>2019-07-06T16:31:25.091000Z</td><td>1562430685</td><td>42.085</td><td>-70.1432</td></tr><tr><th>5</th><td>42.085</td><td>1.0</td><td>2019-07-06T16:31:25.091000Z</td><td>1562430685</td><td>42.131</td><td>-70.0529</td></tr><tr><th>6</th><td>42.0005</td><td>1.0</td><td>2019-07-06T16:31:26.171000Z</td><td>1562430686</td><td>42.0486</td><td>-70.3663</td></tr><tr><th>7</th><td>42.0486</td><td>1.0</td><td>2019-07-06T16:31:26.171000Z</td><td>1562430686</td><td>42.0961</td><td>-70.2737</td></tr><tr><th>8</th><td>42.0961</td><td>1.0</td><td>2019-07-06T16:31:26.171000Z</td><td>1562430686</td><td>42.1428</td><td>-70.1822</td></tr><tr><th>9</th><td>42.1428</td><td>1.0</td><td>2019-07-06T16:31:26.171000Z</td><td>1562430686</td><td>42.1888</td><td>-70.0918</td></tr><tr><th>10</th><td>42.1888</td><td>1.0</td><td>2019-07-06T16:31:26.171000Z</td><td>1562430686</td><td>42.2341</td><td>-70.0024</td></tr><tr><th>11</th><td>42.0582</td><td>1.0</td><td>2019-07-06T16:31:27.251000Z</td><td>1562430687</td><td>42.1064</td><td>-70.4052</td></tr><tr><th>12</th><td>42.1064</td><td>1.0</td><td>2019-07-06T16:31:27.251000Z</td><td>1562430687</td><td>42.1539</td><td>-70.3125</td></tr><tr><th>13</th><td>42.1539</td><td>1.0</td><td>2019-07-06T16:31:27.251000Z</td><td>1562430687</td><td>42.2006</td><td>-70.221</td></tr><tr><th>14</th><td>42.2006</td><td>1.0</td><td>2019-07-06T16:31:27.251000Z</td><td>1562430687</td><td>42.2467</td><td>-70.1306</td></tr><tr><th>15</th><td>42.2467</td><td>1.0</td><td>2019-07-06T16:31:27.251000Z</td><td>1562430687</td><td>42.2921</td><td>-70.0412</td></tr><tr><th>16</th><td>42.116</td><td>1.0</td><td>2019-07-06T16:31:28.331000Z</td><td>1562430688</td><td>42.1643</td><td>-70.4443</td></tr><tr><th>17</th><td>42.1643</td><td>1.0</td><td>2019-07-06T16:31:28.331000Z</td><td>1562430688</td><td>42.2118</td><td>-70.3516</td></tr><tr><th>18</th><td>42.2118</td><td>1.0</td><td>2019-07-06T16:31:28.331000Z</td><td>1562430688</td><td>42.2586</td><td>-70.26</td></tr><tr><th>19</th><td>42.2586</td><td>1.0</td><td>2019-07-06T16:31:28.331000Z</td><td>1562430688</td><td>42.3046</td><td>-70.1695</td></tr><tr><th>20</th><td>42.3046</td><td>1.0</td><td>2019-07-06T16:31:28.331000Z</td><td>1562430688</td><td>42.3501</td><td>-70.0801</td></tr><tr><th>21</th><td>42.1737</td><td>1.0</td><td>2019-07-06T16:31:29.411000Z</td><td>1562430689</td><td>42.222</td><td>-70.4836</td></tr><tr><th>22</th><td>42.222</td><td>1.0</td><td>2019-07-06T16:31:29.411000Z</td><td>1562430689</td><td>42.2695</td><td>-70.3908</td></tr><tr><th>23</th><td>42.2695</td><td>1.0</td><td>2019-07-06T16:31:29.411000Z</td><td>1562430689</td><td>42.3163</td><td>-70.2992</td></tr><tr><th>24</th><td>42.3163</td><td>1.0</td><td>2019-07-06T16:31:29.411000Z</td><td>1562430689</td><td>42.3625</td><td>-70.2086</td></tr><tr><th>25</th><td>42.3625</td><td>1.0</td><td>2019-07-06T16:31:29.411000Z</td><td>1562430689</td><td>42.4079</td><td>-70.1192</td></tr><tr><th>26</th><td>42.4079</td><td>1.0</td><td>2019-07-06T16:31:29.411000Z</td><td>1562430689</td><td>42.4527</td><td>-70.0307</td></tr><tr><th>27</th><td>42.2314</td><td>1.0</td><td>2019-07-06T16:31:30.491000Z</td><td>1562430690</td><td>42.2797</td><td>-70.5228</td></tr><tr><th>28</th><td>42.2797</td><td>1.0</td><td>2019-07-06T16:31:30.491000Z</td><td>1562430690</td><td>42.3273</td><td>-70.43</td></tr><tr><th>29</th><td>42.3273</td><td>1.0</td><td>2019-07-06T16:31:30.491000Z</td><td>1562430690</td><td>42.3742</td><td>-70.3383</td></tr><tr><th>30</th><td>42.3742</td><td>1.0</td><td>2019-07-06T16:31:30.491000Z</td><td>1562430690</td><td>42.4203</td><td>-70.2477</td></tr><tr><th>&vellip;</th><td>&vellip;</td><td>&vellip;</td><td>&vellip;</td><td>&vellip;</td><td>&vellip;</td><td>&vellip;</td></tr></tbody></table>"
      ],
      "text/latex": [
       "\\begin{tabular}{r|ccccccc}\n",
       "\t& cornerlat1 & qa & time & timestamp & cornerlat2 & lons & \\\\\n",
       "\t\\hline\n",
       "\t& Float32 & Float32 & String & Int32 & Float32 & Float32 & \\\\\n",
       "\t\\hline\n",
       "\t1 & 41.9805 & 1.0 & 2019-07-06T16:31:24.011000Z & 1562430684 & 42.0271 & -70.1043 & $\\dots$ \\\\\n",
       "\t2 & 42.0271 & 1.0 & 2019-07-06T16:31:24.011000Z & 1562430684 & 42.0731 & -70.014 & $\\dots$ \\\\\n",
       "\t3 & 41.9909 & 1.0 & 2019-07-06T16:31:25.091000Z & 1562430685 & 42.0383 & -70.2347 & $\\dots$ \\\\\n",
       "\t4 & 42.0383 & 1.0 & 2019-07-06T16:31:25.091000Z & 1562430685 & 42.085 & -70.1432 & $\\dots$ \\\\\n",
       "\t5 & 42.085 & 1.0 & 2019-07-06T16:31:25.091000Z & 1562430685 & 42.131 & -70.0529 & $\\dots$ \\\\\n",
       "\t6 & 42.0005 & 1.0 & 2019-07-06T16:31:26.171000Z & 1562430686 & 42.0486 & -70.3663 & $\\dots$ \\\\\n",
       "\t7 & 42.0486 & 1.0 & 2019-07-06T16:31:26.171000Z & 1562430686 & 42.0961 & -70.2737 & $\\dots$ \\\\\n",
       "\t8 & 42.0961 & 1.0 & 2019-07-06T16:31:26.171000Z & 1562430686 & 42.1428 & -70.1822 & $\\dots$ \\\\\n",
       "\t9 & 42.1428 & 1.0 & 2019-07-06T16:31:26.171000Z & 1562430686 & 42.1888 & -70.0918 & $\\dots$ \\\\\n",
       "\t10 & 42.1888 & 1.0 & 2019-07-06T16:31:26.171000Z & 1562430686 & 42.2341 & -70.0024 & $\\dots$ \\\\\n",
       "\t11 & 42.0582 & 1.0 & 2019-07-06T16:31:27.251000Z & 1562430687 & 42.1064 & -70.4052 & $\\dots$ \\\\\n",
       "\t12 & 42.1064 & 1.0 & 2019-07-06T16:31:27.251000Z & 1562430687 & 42.1539 & -70.3125 & $\\dots$ \\\\\n",
       "\t13 & 42.1539 & 1.0 & 2019-07-06T16:31:27.251000Z & 1562430687 & 42.2006 & -70.221 & $\\dots$ \\\\\n",
       "\t14 & 42.2006 & 1.0 & 2019-07-06T16:31:27.251000Z & 1562430687 & 42.2467 & -70.1306 & $\\dots$ \\\\\n",
       "\t15 & 42.2467 & 1.0 & 2019-07-06T16:31:27.251000Z & 1562430687 & 42.2921 & -70.0412 & $\\dots$ \\\\\n",
       "\t16 & 42.116 & 1.0 & 2019-07-06T16:31:28.331000Z & 1562430688 & 42.1643 & -70.4443 & $\\dots$ \\\\\n",
       "\t17 & 42.1643 & 1.0 & 2019-07-06T16:31:28.331000Z & 1562430688 & 42.2118 & -70.3516 & $\\dots$ \\\\\n",
       "\t18 & 42.2118 & 1.0 & 2019-07-06T16:31:28.331000Z & 1562430688 & 42.2586 & -70.26 & $\\dots$ \\\\\n",
       "\t19 & 42.2586 & 1.0 & 2019-07-06T16:31:28.331000Z & 1562430688 & 42.3046 & -70.1695 & $\\dots$ \\\\\n",
       "\t20 & 42.3046 & 1.0 & 2019-07-06T16:31:28.331000Z & 1562430688 & 42.3501 & -70.0801 & $\\dots$ \\\\\n",
       "\t21 & 42.1737 & 1.0 & 2019-07-06T16:31:29.411000Z & 1562430689 & 42.222 & -70.4836 & $\\dots$ \\\\\n",
       "\t22 & 42.222 & 1.0 & 2019-07-06T16:31:29.411000Z & 1562430689 & 42.2695 & -70.3908 & $\\dots$ \\\\\n",
       "\t23 & 42.2695 & 1.0 & 2019-07-06T16:31:29.411000Z & 1562430689 & 42.3163 & -70.2992 & $\\dots$ \\\\\n",
       "\t24 & 42.3163 & 1.0 & 2019-07-06T16:31:29.411000Z & 1562430689 & 42.3625 & -70.2086 & $\\dots$ \\\\\n",
       "\t25 & 42.3625 & 1.0 & 2019-07-06T16:31:29.411000Z & 1562430689 & 42.4079 & -70.1192 & $\\dots$ \\\\\n",
       "\t26 & 42.4079 & 1.0 & 2019-07-06T16:31:29.411000Z & 1562430689 & 42.4527 & -70.0307 & $\\dots$ \\\\\n",
       "\t27 & 42.2314 & 1.0 & 2019-07-06T16:31:30.491000Z & 1562430690 & 42.2797 & -70.5228 & $\\dots$ \\\\\n",
       "\t28 & 42.2797 & 1.0 & 2019-07-06T16:31:30.491000Z & 1562430690 & 42.3273 & -70.43 & $\\dots$ \\\\\n",
       "\t29 & 42.3273 & 1.0 & 2019-07-06T16:31:30.491000Z & 1562430690 & 42.3742 & -70.3383 & $\\dots$ \\\\\n",
       "\t30 & 42.3742 & 1.0 & 2019-07-06T16:31:30.491000Z & 1562430690 & 42.4203 & -70.2477 & $\\dots$ \\\\\n",
       "\t$\\dots$ & $\\dots$ & $\\dots$ & $\\dots$ & $\\dots$ & $\\dots$ & $\\dots$ &  \\\\\n",
       "\\end{tabular}\n"
      ],
      "text/plain": [
       "4065×16 DataFrame. Omitted printing of 12 columns\n",
       "│ Row  │ cornerlat1 │ qa      │ time                        │ timestamp  │\n",
       "│      │ \u001b[90mFloat32\u001b[39m    │ \u001b[90mFloat32\u001b[39m │ \u001b[90mString\u001b[39m                      │ \u001b[90mInt32\u001b[39m      │\n",
       "├──────┼────────────┼─────────┼─────────────────────────────┼────────────┤\n",
       "│ 1    │ 41.9805    │ 1.0     │ 2019-07-06T16:31:24.011000Z │ 1562430684 │\n",
       "│ 2    │ 42.0271    │ 1.0     │ 2019-07-06T16:31:24.011000Z │ 1562430684 │\n",
       "│ 3    │ 41.9909    │ 1.0     │ 2019-07-06T16:31:25.091000Z │ 1562430685 │\n",
       "│ 4    │ 42.0383    │ 1.0     │ 2019-07-06T16:31:25.091000Z │ 1562430685 │\n",
       "│ 5    │ 42.085     │ 1.0     │ 2019-07-06T16:31:25.091000Z │ 1562430685 │\n",
       "│ 6    │ 42.0005    │ 1.0     │ 2019-07-06T16:31:26.171000Z │ 1562430686 │\n",
       "│ 7    │ 42.0486    │ 1.0     │ 2019-07-06T16:31:26.171000Z │ 1562430686 │\n",
       "│ 8    │ 42.0961    │ 1.0     │ 2019-07-06T16:31:26.171000Z │ 1562430686 │\n",
       "│ 9    │ 42.1428    │ 1.0     │ 2019-07-06T16:31:26.171000Z │ 1562430686 │\n",
       "│ 10   │ 42.1888    │ 1.0     │ 2019-07-06T16:31:26.171000Z │ 1562430686 │\n",
       "⋮\n",
       "│ 4055 │ 42.965     │ 1.0     │ 2019-07-28T17:58:48.986000Z │ 1564336728 │\n",
       "│ 4056 │ 42.9061    │ 1.0     │ 2019-07-28T17:58:50.066000Z │ 1564336730 │\n",
       "│ 4057 │ 42.9122    │ 1.0     │ 2019-07-28T17:58:50.066000Z │ 1564336730 │\n",
       "│ 4058 │ 42.9183    │ 1.0     │ 2019-07-28T17:58:50.066000Z │ 1564336730 │\n",
       "│ 4059 │ 42.9243    │ 1.0     │ 2019-07-28T17:58:50.066000Z │ 1564336730 │\n",
       "│ 4060 │ 42.9303    │ 1.0     │ 2019-07-28T17:58:50.066000Z │ 1564336730 │\n",
       "│ 4061 │ 42.9363    │ 1.0     │ 2019-07-28T17:58:50.066000Z │ 1564336730 │\n",
       "│ 4062 │ 42.9422    │ 1.0     │ 2019-07-28T17:58:50.066000Z │ 1564336730 │\n",
       "│ 4063 │ 42.9482    │ 1.0     │ 2019-07-28T17:58:50.066000Z │ 1564336730 │\n",
       "│ 4064 │ 42.9541    │ 1.0     │ 2019-07-28T17:58:50.066000Z │ 1564336730 │\n",
       "│ 4065 │ 42.9599    │ 1.0     │ 2019-07-28T17:58:50.066000Z │ 1564336730 │"
      ]
     },
     "execution_count": 19,
     "metadata": {},
     "output_type": "execute_result"
    }
   ],
   "source": [
    "output_df"
   ]
  }
 ],
 "metadata": {
  "kernelspec": {
   "display_name": "Julia 1.2.0",
   "language": "julia",
   "name": "julia-1.2"
  },
  "language_info": {
   "file_extension": ".jl",
   "mimetype": "application/julia",
   "name": "julia",
   "version": "1.2.0"
  }
 },
 "nbformat": 4,
 "nbformat_minor": 2
}
