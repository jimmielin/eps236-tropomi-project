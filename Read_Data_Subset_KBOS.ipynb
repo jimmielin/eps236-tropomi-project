{
 "cells": [
  {
   "cell_type": "code",
   "execution_count": 98,
   "metadata": {},
   "outputs": [],
   "source": [
    "using Plots\n",
    "gr()\n",
    "using Dates"
   ]
  },
  {
   "cell_type": "code",
   "execution_count": 73,
   "metadata": {
    "scrolled": true
   },
   "outputs": [
    {
     "name": "stdout",
     "output_type": "stream",
     "text": [
      "Done"
     ]
    }
   ],
   "source": [
    "using NCDatasets\n",
    "filename = \"/d/S5P_OFFL_L2__NO2____20190715T160557_20190715T174727_09084_01_010302_20190721T173515.nc\"\n",
    "ds = Dataset(filename, \"r\")\n",
    "prod = ds.group[\"PRODUCT\"];\n",
    "\n",
    "# Copy the lat-lon data into local arrays\n",
    "no2cols = convert(Array{Union{Float32, Missing}, 3}, prod[\"nitrogendioxide_tropospheric_column\"]);\n",
    "lons = convert(Array{Float32, 3}, prod[\"longitude\"]);\n",
    "lats = convert(Array{Float32, 3}, prod[\"latitude\"]);\n",
    "qavals = convert(Array{Float32, 3}, prod[\"qa_value\"]);\n",
    "utctimes = convert(Array{String, 1}, variable(prod, \"time_utc\")[1:end, 1]); # 1x1, JM\n",
    "print(\"Done\")"
   ]
  },
  {
   "cell_type": "code",
   "execution_count": 119,
   "metadata": {},
   "outputs": [
    {
     "data": {
      "text/plain": [
       "3245-element Array{String,1}:\n",
       " \"2019-07-15T16:27:31.920000Z\"\n",
       " \"2019-07-15T16:27:33.000000Z\"\n",
       " \"2019-07-15T16:27:34.080000Z\"\n",
       " \"2019-07-15T16:27:35.159000Z\"\n",
       " \"2019-07-15T16:27:36.239000Z\"\n",
       " \"2019-07-15T16:27:37.319000Z\"\n",
       " \"2019-07-15T16:27:38.399000Z\"\n",
       " \"2019-07-15T16:27:39.479000Z\"\n",
       " \"2019-07-15T16:27:40.559000Z\"\n",
       " \"2019-07-15T16:27:41.639000Z\"\n",
       " \"2019-07-15T16:27:42.719000Z\"\n",
       " \"2019-07-15T16:27:43.799000Z\"\n",
       " \"2019-07-15T16:27:44.879000Z\"\n",
       " ⋮                            \n",
       " \"2019-07-15T17:25:43.476000Z\"\n",
       " \"2019-07-15T17:25:44.556000Z\"\n",
       " \"2019-07-15T17:25:45.636000Z\"\n",
       " \"2019-07-15T17:25:46.716000Z\"\n",
       " \"2019-07-15T17:25:47.796000Z\"\n",
       " \"2019-07-15T17:25:48.876000Z\"\n",
       " \"2019-07-15T17:25:49.956000Z\"\n",
       " \"2019-07-15T17:25:51.036000Z\"\n",
       " \"2019-07-15T17:25:52.116000Z\"\n",
       " \"2019-07-15T17:25:53.196000Z\"\n",
       " \"2019-07-15T17:25:54.276000Z\"\n",
       " \"2019-07-15T17:25:55.356000Z\""
      ]
     },
     "execution_count": 119,
     "metadata": {},
     "output_type": "execute_result"
    }
   ],
   "source": [
    "# ref_time = convert(Float32, variable(prod, \"time\")[1]) # time reference - seconds since 2010-01-01 00:00:00\n",
    "# @show ref_time\n",
    "# v = convert(Array{Float32, 2}, variable(prod, \"delta_time\")) # milliseconds since ref_time (JM x 1)\n",
    "#Dates.format(, \"yyyy-mm-dd HH:MM:SS\")\n",
    "#v = variable(prod, \"delta_time\")\n",
    "#prod[\"delta_time\"].attrib[\"units\"]\n",
    "utctimes = convert(Array{String, 1}, variable(prod, \"time_utc\")[1:end, 1])"
   ]
  },
  {
   "cell_type": "code",
   "execution_count": 137,
   "metadata": {},
   "outputs": [
    {
     "name": "stdout",
     "output_type": "stream",
     "text": [
      "(IM, JM, LM) = (450, 3245, 1)\n"
     ]
    },
    {
     "data": {
      "text/plain": [
       "(450, 3245, 1)"
      ]
     },
     "execution_count": 137,
     "metadata": {},
     "output_type": "execute_result"
    }
   ],
   "source": [
    "# reference   = prod[\"time\"] # 2019-07-15T00:00:00\n",
    "output_lons = Float32[];\n",
    "output_lats = Float32[];\n",
    "output_qa   = Float32[];\n",
    "output_no2co= Float32[];\n",
    "output_time = String[];\n",
    "IM, JM, LM = size(no2cols)\n",
    "@show IM, JM, LM"
   ]
  },
  {
   "cell_type": "code",
   "execution_count": 138,
   "metadata": {},
   "outputs": [
    {
     "name": "stdout",
     "output_type": "stream",
     "text": [
      "Data at i = 50 j = 1940 lat = 42.04081 lon = -71.91462 val = 6.6705857e-6 qa_value = 1.0\n",
      "Data at i = 50 j = 1941 lat = 42.100975 lon = -71.94762 val = 1.7539955e-5 qa_value = 1.0\n",
      "Data at i = 50 j = 1942 lat = 42.161118 lon = -71.98065 val = 5.5622377e-6 qa_value = 1.0\n",
      "Data at i = 51 j = 1939 lat = 42.0208 lon = -71.78642 val = 1.6357419e-5 qa_value = 1.0\n",
      "Data at i = 51 j = 1940 lat = 42.081 lon = -71.819305 val = -2.9938997e-6 qa_value = 1.0\n",
      "Data at i = 51 j = 1941 lat = 42.141197 lon = -71.85223 val = 8.167433e-7 qa_value = 1.0\n",
      "Data at i = 51 j = 1942 lat = 42.201374 lon = -71.8852 val = 6.06338e-6 qa_value = 1.0\n",
      "Data at i = 51 j = 1943 lat = 42.261555 lon = -71.9182 val = 9.7019e-6 qa_value = 1.0\n",
      "Data at i = 51 j = 1944 lat = 42.321762 lon = -71.95122 val = 6.3801594e-6 qa_value = 1.0\n",
      "Data at i = 51 j = 1945 lat = 42.38194 lon = -71.98442 val = 1.4958522e-7 qa_value = 1.0\n",
      "Data at i = 52 j = 1938 lat = 42.000053 lon = -71.65955 val = 8.785762e-6 qa_value = 1.0\n",
      "Data at i = 52 j = 1939 lat = 42.06031 lon = -71.69231 val = 2.190365e-5 qa_value = 1.0\n",
      "Data at i = 52 j = 1940 lat = 42.12054 lon = -71.72511 val = 2.053031e-5 qa_value = 1.0\n",
      "Data at i = 52 j = 1941 lat = 42.180767 lon = -71.75797 val = 2.2861443e-5 qa_value = 1.0\n",
      "Data at i = 52 j = 1942 lat = 42.240974 lon = -71.79088 val = 3.5579405e-6 qa_value = 1.0\n",
      "Data at i = 52 j = 1943 lat = 42.301186 lon = -71.82381 val = 1.2643322e-5 qa_value = 1.0\n",
      "Data at i = 52 j = 1944 lat = 42.36142 lon = -71.85676 val = -5.6858084e-7 qa_value = 1.0\n",
      "Data at i = 52 j = 1945 lat = 42.42163 lon = -71.88989 val = 1.5083212e-5 qa_value = 1.0\n",
      "Data at i = 52 j = 1946 lat = 42.48177 lon = -71.92312 val = 2.1753194e-5 qa_value = 1.0\n",
      "Data at i = 52 j = 1947 lat = 42.54194 lon = -71.956406 val = 1.0740301e-5 qa_value = 1.0\n",
      "Data at i = 52 j = 1948 lat = 42.602074 lon = -71.98975 val = 3.3066314e-7 qa_value = 1.0\n",
      "Data at i = 53 j = 1938 lat = 42.038895 lon = -71.566605 val = 1.8116438e-5 qa_value = 1.0\n",
      "Data at i = 53 j = 1939 lat = 42.099182 lon = -71.59929 val = 1.7588525e-5 qa_value = 1.0\n",
      "Data at i = 53 j = 1940 lat = 42.159443 lon = -71.63203 val = 3.178279e-5 qa_value = 1.0\n",
      "Data at i = 53 j = 1941 lat = 42.2197 lon = -71.66482 val = 1.1629328e-5 qa_value = 1.0\n",
      "Data at i = 53 j = 1942 lat = 42.279934 lon = -71.697655 val = 7.5438875e-6 qa_value = 1.0\n",
      "Data at i = 53 j = 1943 lat = 42.340176 lon = -71.730515 val = 2.5462768e-5 qa_value = 1.0\n",
      "Data at i = 53 j = 1944 lat = 42.40044 lon = -71.7634 val = 9.623528e-6 qa_value = 1.0\n",
      "Data at i = 53 j = 1945 lat = 42.46068 lon = -71.79647 val = 1.8549727e-5 qa_value = 1.0\n",
      "Data at i = 53 j = 1946 lat = 42.52085 lon = -71.82963 val = 2.378717e-6 qa_value = 1.0\n",
      "Data at i = 53 j = 1947 lat = 42.58105 lon = -71.86284 val = 1.3509044e-5 qa_value = 1.0\n",
      "Data at i = 53 j = 1948 lat = 42.641216 lon = -71.89612 val = 6.378096e-6 qa_value = 1.0\n",
      "Data at i = 53 j = 1949 lat = 42.701405 lon = -71.92937 val = 1.1428726e-5 qa_value = 1.0\n",
      "Data at i = 53 j = 1950 lat = 42.76159 lon = -71.962715 val = 9.807184e-6 qa_value = 1.0\n",
      "Data at i = 53 j = 1951 lat = 42.821728 lon = -71.99618 val = 6.7850266e-7 qa_value = 1.0\n",
      "Data at i = 54 j = 1937 lat = 42.016796 lon = -71.44225 val = 1.1794962e-5 qa_value = 1.0\n",
      "Data at i = 54 j = 1938 lat = 42.077114 lon = -71.474724 val = 1.5757128e-5 qa_value = 1.0\n",
      "Data at i = 54 j = 1939 lat = 42.137432 lon = -71.50734 val = 1.1167019e-5 qa_value = 1.0\n",
      "Data at i = 54 j = 1940 lat = 42.197723 lon = -71.540016 val = 1.1723354e-5 qa_value = 1.0\n",
      "Data at i = 54 j = 1941 lat = 42.258007 lon = -71.57274 val = 4.681125e-6 qa_value = 1.0\n",
      "Data at i = 54 j = 1942 lat = 42.31827 lon = -71.6055 val = 2.673916e-6 qa_value = 1.0\n",
      "Data at i = 54 j = 1943 lat = 42.378544 lon = -71.6383 val = 4.221943e-6 qa_value = 1.0\n",
      "Data at i = 54 j = 1944 lat = 42.43884 lon = -71.67111 val = -3.3110115e-7 qa_value = 1.0\n",
      "Data at i = 54 j = 1945 lat = 42.499107 lon = -71.70412 val = 1.07052565e-5 qa_value = 1.0\n",
      "Data at i = 54 j = 1946 lat = 42.559307 lon = -71.737206 val = -7.348601e-7 qa_value = 1.0\n",
      "Data at i = 54 j = 1947 lat = 42.619537 lon = -71.77035 val = 1.0086096e-5 qa_value = 1.0\n",
      "Data at i = 54 j = 1948 lat = 42.679733 lon = -71.80356 val = 1.1407861e-5 qa_value = 1.0\n",
      "Data at i = 54 j = 1949 lat = 42.73995 lon = -71.83674 val = 1.3183902e-5 qa_value = 1.0\n",
      "Data at i = 54 j = 1950 lat = 42.800163 lon = -71.870026 val = 1.2073093e-5 qa_value = 1.0\n",
      "Data at i = 54 j = 1951 lat = 42.860336 lon = -71.90341 val = 5.666453e-6 qa_value = 1.0\n",
      "Data at i = 54 j = 1952 lat = 42.920525 lon = -71.93681 val = 9.537318e-6 qa_value = 1.0\n",
      "Data at i = 54 j = 1953 lat = 42.980717 lon = -71.97035 val = 5.6519616e-6 qa_value = 1.0\n",
      "Data at i = 55 j = 1937 lat = 42.054386 lon = -71.35149 val = 7.665584e-6 qa_value = 1.0\n",
      "Data at i = 55 j = 1938 lat = 42.114735 lon = -71.38389 val = 2.8658334e-5 qa_value = 1.0\n",
      "Data at i = 55 j = 1939 lat = 42.175083 lon = -71.41644 val = 7.4018003e-6 qa_value = 1.0\n",
      "Data at i = 55 j = 1940 lat = 42.2354 lon = -71.44904 val = 1.113786e-5 qa_value = 1.0\n",
      "Data at i = 55 j = 1941 lat = 42.295715 lon = -71.4817 val = 6.4114843e-6 qa_value = 1.0\n",
      "Data at i = 55 j = 1942 lat = 42.356007 lon = -71.5144 val = 1.4166778e-5 qa_value = 1.0\n",
      "Data at i = 55 j = 1943 lat = 42.41631 lon = -71.54713 val = 1.48396875e-5 qa_value = 1.0\n",
      "Data at i = 55 j = 1944 lat = 42.47663 lon = -71.57988 val = 1.2440328e-5 qa_value = 1.0\n",
      "Data at i = 55 j = 1945 lat = 42.536926 lon = -71.61281 val = 4.1685585e-6 qa_value = 1.0\n",
      "Data at i = 55 j = 1946 lat = 42.597157 lon = -71.64583 val = 3.9172814e-6 qa_value = 1.0\n",
      "Data at i = 55 j = 1947 lat = 42.657417 lon = -71.67891 val = 2.2371357e-6 qa_value = 1.0\n",
      "Data at i = 55 j = 1948 lat = 42.717644 lon = -71.71205 val = 4.1469207e-6 qa_value = 1.0\n",
      "Data at i = 55 j = 1949 lat = 42.77789 lon = -71.74516 val = 1.11734935e-5 qa_value = 1.0\n",
      "Data at i = 55 j = 1950 lat = 42.83813 lon = -71.77837 val = 1.1101363e-5 qa_value = 1.0\n",
      "Data at i = 55 j = 1951 lat = 42.89833 lon = -71.8117 val = -1.9537924e-6 qa_value = 1.0\n",
      "Data at i = 55 j = 1952 lat = 42.95855 lon = -71.84503 val = 9.328987e-6 qa_value = 1.0\n",
      "Data at i = 56 j = 1936 lat = 42.031002 lon = -71.22942 val = 1.9403575e-5 qa_value = 1.0\n",
      "Data at i = 56 j = 1937 lat = 42.091393 lon = -71.261734 val = 1.921203e-5 qa_value = 1.0\n",
      "Data at i = 56 j = 1938 lat = 42.151768 lon = -71.294075 val = 1.7425456e-5 qa_value = 1.0\n",
      "Data at i = 56 j = 1939 lat = 42.212143 lon = -71.32655 val = 1.6510321e-5 qa_value = 1.0\n",
      "Data at i = 56 j = 1940 lat = 42.27249 lon = -71.35909 val = -2.7854055e-6 qa_value = 1.0\n",
      "Data at i = 56 j = 1941 lat = 42.332832 lon = -71.39168 val = 1.412344e-5 qa_value = 1.0\n",
      "Data at i = 56 j = 1942 lat = 42.393154 lon = -71.42432 val = 1.1135577e-6 qa_value = 1.0\n",
      "Data at i = 56 j = 1943 lat = 42.453484 lon = -71.45698 val = 1.9909316e-5 qa_value = 1.0\n",
      "Data at i = 56 j = 1944 lat = 42.513832 lon = -71.48966 val = 9.495209e-6 qa_value = 1.0\n",
      "Data at i = 56 j = 1945 lat = 42.574158 lon = -71.52252 val = -2.1780945e-6 qa_value = 1.0\n",
      "Data at i = 56 j = 1946 lat = 42.63442 lon = -71.55548 val = 8.113913e-6 qa_value = 1.0\n",
      "Data at i = 56 j = 1947 lat = 42.694706 lon = -71.588486 val = 1.7025139e-5 qa_value = 1.0\n",
      "Data at i = 56 j = 1948 lat = 42.75496 lon = -71.62156 val = 1.1716824e-5 qa_value = 1.0\n",
      "Data at i = 56 j = 1949 lat = 42.815235 lon = -71.6546 val = -2.3638056e-6 qa_value = 1.0\n",
      "Data at i = 56 j = 1950 lat = 42.875507 lon = -71.68775 val = 2.8513718e-6 qa_value = 1.0\n",
      "Data at i = 56 j = 1951 lat = 42.935738 lon = -71.72101 val = -7.747599e-6 qa_value = 1.0\n",
      "Data at i = 56 j = 1952 lat = 42.995983 lon = -71.75427 val = 1.3964978e-5 qa_value = 0.74\n",
      "Data at i = 57 j = 1935 lat = 42.00698 lon = -71.10855 val = 2.5525344e-5 qa_value = 1.0\n",
      "Data at i = 57 j = 1936 lat = 42.06741 lon = -71.14073 val = 2.3726996e-5 qa_value = 1.0\n",
      "Data at i = 57 j = 1937 lat = 42.127827 lon = -71.17297 val = 3.48829e-5 qa_value = 1.0\n",
      "Data at i = 57 j = 1938 lat = 42.18823 lon = -71.205246 val = 4.5722107e-5 qa_value = 1.0\n",
      "Data at i = 57 j = 1939 lat = 42.24863 lon = -71.23766 val = 2.4477376e-5 qa_value = 1.0\n",
      "Data at i = 57 j = 1940 lat = 42.309006 lon = -71.27014 val = 3.8221806e-6 qa_value = 1.0\n",
      "Data at i = 57 j = 1941 lat = 42.369377 lon = -71.30266 val = 2.0797455e-5 qa_value = 1.0\n",
      "Data at i = 57 j = 1942 lat = 42.429726 lon = -71.33523 val = 1.3666366e-5 qa_value = 1.0\n",
      "Data at i = 57 j = 1943 lat = 42.49008 lon = -71.36782 val = 9.308471e-6 qa_value = 1.0\n",
      "Data at i = 57 j = 1944 lat = 42.55046 lon = -71.40044 val = 3.9259594e-6 qa_value = 1.0\n",
      "Data at i = 57 j = 1945 lat = 42.610813 lon = -71.433235 val = 1.4950293e-5 qa_value = 1.0\n",
      "Data at i = 57 j = 1946 lat = 42.6711 lon = -71.466125 val = 1.1569939e-5 qa_value = 1.0\n",
      "Data at i = 57 j = 1947 lat = 42.73142 lon = -71.49906 val = 8.762124e-6 qa_value = 1.0\n",
      "Data at i = 57 j = 1948 lat = 42.791702 lon = -71.53207 val = 1.7898503e-5 qa_value = 1.0\n",
      "Data at i = 57 j = 1949 lat = 42.852005 lon = -71.56505 val = 1.7072855e-7 qa_value = 1.0\n",
      "Data at i = 57 j = 1950 lat = 42.912304 lon = -71.59813 val = 4.235477e-6 qa_value = 1.0\n",
      "Data at i = 57 j = 1951 lat = 42.97256 lon = -71.63131 val = 8.849457e-6 qa_value = 1.0\n",
      "Data at i = 58 j = 1935 lat = 42.042805 lon = -71.02089 val = 1.9245073e-5 qa_value = 1.0\n"
     ]
    },
    {
     "name": "stdout",
     "output_type": "stream",
     "text": [
      "Data at i = 58 j = 1936 lat = 42.10326 lon = -71.053 val = 2.710961e-5 qa_value = 1.0\n",
      "Data at i = 58 j = 1937 lat = 42.163704 lon = -71.08518 val = 2.76792e-5 qa_value = 1.0\n",
      "Data at i = 58 j = 1938 lat = 42.224133 lon = -71.11739 val = 1.223354e-5 qa_value = 1.0\n",
      "Data at i = 58 j = 1939 lat = 42.284565 lon = -71.14974 val = 1.0339768e-5 qa_value = 1.0\n",
      "Data at i = 58 j = 1940 lat = 42.344967 lon = -71.18215 val = 2.0328584e-5 qa_value = 1.0\n",
      "Data at i = 58 j = 1941 lat = 42.405365 lon = -71.21461 val = 8.867496e-6 qa_value = 1.0\n",
      "Data at i = 58 j = 1942 lat = 42.46574 lon = -71.2471 val = 1.6573096e-5 qa_value = 1.0\n",
      "Data at i = 58 j = 1943 lat = 42.526123 lon = -71.27963 val = 1.478741e-5 qa_value = 1.0\n",
      "Data at i = 58 j = 1944 lat = 42.58653 lon = -71.31219 val = -1.968002e-6 qa_value = 1.0\n",
      "Data at i = 58 j = 1945 lat = 42.64691 lon = -71.34492 val = 2.450364e-5 qa_value = 1.0\n",
      "Data at i = 58 j = 1946 lat = 42.707226 lon = -71.37774 val = 1.3243958e-6 qa_value = 1.0\n",
      "Data at i = 58 j = 1947 lat = 42.76757 lon = -71.410614 val = 1.6922655e-5 qa_value = 1.0\n",
      "Data at i = 58 j = 1948 lat = 42.82788 lon = -71.44355 val = 1.5020175e-6 qa_value = 1.0\n",
      "Data at i = 58 j = 1949 lat = 42.88821 lon = -71.47646 val = -4.79148e-6 qa_value = 1.0\n",
      "Data at i = 58 j = 1950 lat = 42.94854 lon = -71.509476 val = 1.5272615e-5 qa_value = 1.0\n",
      "Data at i = 59 j = 1934 lat = 42.01761 lon = -70.902176 val = 2.7093047e-5 qa_value = 1.0\n",
      "Data at i = 59 j = 1935 lat = 42.078087 lon = -70.93417 val = 2.2619466e-5 qa_value = 1.0\n",
      "Data at i = 59 j = 1936 lat = 42.13857 lon = -70.966225 val = 3.0941115e-5 qa_value = 1.0\n",
      "Data at i = 59 j = 1937 lat = 42.19904 lon = -70.99834 val = 2.2195962e-5 qa_value = 1.0\n",
      "Data at i = 59 j = 1938 lat = 42.259495 lon = -71.03048 val = 3.348849e-5 qa_value = 1.0\n",
      "Data at i = 59 j = 1939 lat = 42.31995 lon = -71.06277 val = 3.337341e-5 qa_value = 1.0\n",
      "Data at i = 59 j = 1940 lat = 42.380383 lon = -71.09511 val = 1.7818844e-5 qa_value = 1.0\n",
      "Data at i = 59 j = 1941 lat = 42.440807 lon = -71.127495 val = 2.1531983e-5 qa_value = 1.0\n",
      "Data at i = 59 j = 1942 lat = 42.50121 lon = -71.15993 val = 2.1287757e-5 qa_value = 1.0\n",
      "Data at i = 59 j = 1943 lat = 42.561623 lon = -71.1924 val = 1.46872935e-5 qa_value = 1.0\n",
      "Data at i = 59 j = 1944 lat = 42.62205 lon = -71.224884 val = -7.481603e-6 qa_value = 1.0\n",
      "Data at i = 59 j = 1945 lat = 42.68246 lon = -71.257545 val = 1.6520915e-5 qa_value = 1.0\n",
      "Data at i = 59 j = 1946 lat = 42.7428 lon = -71.2903 val = 9.864637e-6 qa_value = 1.0\n",
      "Data at i = 59 j = 1947 lat = 42.803173 lon = -71.323105 val = 1.2869176e-5 qa_value = 1.0\n",
      "Data at i = 59 j = 1948 lat = 42.863514 lon = -71.35598 val = 1.2543026e-6 qa_value = 1.0\n",
      "Data at i = 59 j = 1949 lat = 42.92387 lon = -71.388824 val = 1.7153035e-6 qa_value = 1.0\n",
      "Data at i = 59 j = 1950 lat = 42.984226 lon = -71.42177 val = -4.538857e-6 qa_value = 1.0\n",
      "Data at i = 60 j = 1934 lat = 42.052338 lon = -70.816444 val = 2.3602937e-5 qa_value = 1.0\n",
      "Data at i = 60 j = 1935 lat = 42.11284 lon = -70.84837 val = 1.7038821e-5 qa_value = 1.0\n",
      "Data at i = 60 j = 1936 lat = 42.173347 lon = -70.88036 val = 2.007033e-5 qa_value = 1.0\n",
      "Data at i = 60 j = 1937 lat = 42.233845 lon = -70.91241 val = 2.238162e-5 qa_value = 1.0\n",
      "Data at i = 60 j = 1938 lat = 42.294327 lon = -70.94449 val = 3.694895e-5 qa_value = 1.0\n",
      "Data at i = 60 j = 1939 lat = 42.35481 lon = -70.97671 val = 2.4358827e-5 qa_value = 1.0\n",
      "Data at i = 60 j = 1940 lat = 42.415268 lon = -71.00899 val = 1.2220064e-5 qa_value = 1.0\n",
      "Data at i = 60 j = 1941 lat = 42.47572 lon = -71.04131 val = 1.0054097e-5 qa_value = 1.0\n",
      "Data at i = 60 j = 1942 lat = 42.536148 lon = -71.07368 val = 3.4189048e-5 qa_value = 1.0\n",
      "Data at i = 60 j = 1943 lat = 42.596584 lon = -71.10608 val = 9.784309e-6 qa_value = 1.0\n",
      "Data at i = 60 j = 1944 lat = 42.657043 lon = -71.138504 val = 7.862415e-6 qa_value = 1.0\n",
      "Data at i = 60 j = 1945 lat = 42.71748 lon = -71.171104 val = 2.0381023e-5 qa_value = 1.0\n",
      "Data at i = 60 j = 1946 lat = 42.777847 lon = -71.20379 val = 6.678724e-6 qa_value = 1.0\n",
      "Data at i = 60 j = 1947 lat = 42.838245 lon = -71.23653 val = 1.9617505e-6 qa_value = 1.0\n",
      "Data at i = 60 j = 1948 lat = 42.898613 lon = -71.26933 val = 8.422391e-6 qa_value = 1.0\n",
      "Data at i = 60 j = 1949 lat = 42.958996 lon = -71.30212 val = 1.1475911e-5 qa_value = 1.0\n",
      "Data at i = 61 j = 1933 lat = 42.025993 lon = -70.69984 val = 8.168313e-6 qa_value = 1.0\n",
      "Data at i = 61 j = 1934 lat = 42.086548 lon = -70.73161 val = 2.9950004e-5 qa_value = 1.0\n",
      "Data at i = 61 j = 1935 lat = 42.14708 lon = -70.76348 val = 1.564231e-5 qa_value = 1.0\n",
      "Data at i = 61 j = 1936 lat = 42.207615 lon = -70.7954 val = 3.9874685e-5 qa_value = 1.0\n",
      "Data at i = 61 j = 1937 lat = 42.268135 lon = -70.827385 val = 2.489598e-5 qa_value = 1.0\n",
      "Data at i = 61 j = 1938 lat = 42.328644 lon = -70.8594 val = 3.19645e-5 qa_value = 1.0\n",
      "Data at i = 61 j = 1939 lat = 42.389153 lon = -70.891556 val = 1.8277506e-5 qa_value = 1.0\n",
      "Data at i = 61 j = 1940 lat = 42.449635 lon = -70.92377 val = 1.8773895e-5 qa_value = 1.0\n",
      "Data at i = 61 j = 1941 lat = 42.510113 lon = -70.956024 val = 1.0718734e-5 qa_value = 1.0\n",
      "Data at i = 61 j = 1942 lat = 42.570568 lon = -70.98833 val = 1.9425712e-5 qa_value = 1.0\n",
      "Data at i = 61 j = 1943 lat = 42.63103 lon = -71.02067 val = 1.0512951e-5 qa_value = 1.0\n",
      "Data at i = 61 j = 1944 lat = 42.691517 lon = -71.053024 val = 8.624861e-6 qa_value = 1.0\n",
      "Data at i = 61 j = 1945 lat = 42.751976 lon = -71.085556 val = 7.859599e-6 qa_value = 1.0\n",
      "Data at i = 61 j = 1946 lat = 42.812374 lon = -71.11818 val = 1.8126842e-5 qa_value = 1.0\n",
      "Data at i = 61 j = 1947 lat = 42.8728 lon = -71.150856 val = 1.2589565e-5 qa_value = 1.0\n",
      "Data at i = 61 j = 1948 lat = 42.933193 lon = -71.18359 val = 7.3884066e-6 qa_value = 1.0\n",
      "Data at i = 61 j = 1949 lat = 42.993603 lon = -71.21631 val = 6.4731637e-7 qa_value = 1.0\n",
      "Data at i = 62 j = 1933 lat = 42.05968 lon = -70.615944 val = 1.8044113e-5 qa_value = 0.9\n",
      "Data at i = 62 j = 1934 lat = 42.120262 lon = -70.64765 val = 5.640386e-6 qa_value = 0.9\n",
      "Data at i = 62 j = 1935 lat = 42.180817 lon = -70.67946 val = 2.3167293e-5 qa_value = 0.9\n",
      "Data at i = 62 j = 1936 lat = 42.241375 lon = -70.71132 val = 2.2077616e-5 qa_value = 0.9\n",
      "Data at i = 62 j = 1937 lat = 42.30192 lon = -70.74323 val = 2.1909103e-5 qa_value = 0.9\n",
      "Data at i = 62 j = 1938 lat = 42.362457 lon = -70.775185 val = 3.3501317e-5 qa_value = 1.0\n",
      "Data at i = 62 j = 1939 lat = 42.422993 lon = -70.80728 val = 2.5198491e-5 qa_value = 1.0\n",
      "Data at i = 62 j = 1940 lat = 42.4835 lon = -70.839424 val = 1.5288368e-5 qa_value = 1.0\n",
      "Data at i = 62 j = 1941 lat = 42.544003 lon = -70.87162 val = 5.5783535e-6 qa_value = 1.0\n",
      "Data at i = 62 j = 1942 lat = 42.604485 lon = -70.90386 val = 2.5696393e-6 qa_value = 1.0\n",
      "Data at i = 62 j = 1943 lat = 42.664974 lon = -70.936134 val = 1.6774417e-5 qa_value = 1.0\n",
      "Data at i = 62 j = 1944 lat = 42.725483 lon = -70.96843 val = 1.0222673e-5 qa_value = 1.0\n",
      "Data at i = 62 j = 1945 lat = 42.78597 lon = -71.00089 val = 9.020443e-6 qa_value = 1.0\n",
      "Data at i = 62 j = 1946 lat = 42.846394 lon = -71.03345 val = 1.42962745e-5 qa_value = 1.0\n",
      "Data at i = 62 j = 1947 lat = 42.90684 lon = -71.066055 val = 1.6649501e-5 qa_value = 1.0\n",
      "Data at i = 62 j = 1948 lat = 42.967262 lon = -71.09873 val = -4.4765358e-7 qa_value = 1.0\n",
      "Data at i = 63 j = 1932 lat = 42.03226 lon = -70.50127 val = 2.3002707e-5 qa_value = 1.0\n",
      "Data at i = 63 j = 1933 lat = 42.092876 lon = -70.532906 val = -1.7762711e-6 qa_value = 0.66999996\n",
      "Data at i = 63 j = 1934 lat = 42.153484 lon = -70.56455 val = 4.3187865e-5 qa_value = 0.66999996\n",
      "Data at i = 63 j = 1935 lat = 42.21406 lon = -70.59629 val = 1.5198336e-5 qa_value = 0.9\n",
      "Data at i = 63 j = 1936 lat = 42.274647 lon = -70.62809 val = 3.3249886e-5 qa_value = 0.9\n",
      "Data at i = 63 j = 1937 lat = 42.33522 lon = -70.65994 val = 1.7057178e-5 qa_value = 0.9\n",
      "Data at i = 63 j = 1938 lat = 42.39578 lon = -70.69183 val = 1.2693604e-5 qa_value = 1.0\n",
      "Data at i = 63 j = 1939 lat = 42.456337 lon = -70.72386 val = 5.7797515e-6 qa_value = 1.0\n",
      "Data at i = 63 j = 1940 lat = 42.516872 lon = -70.75594 val = 1.0269701e-5 qa_value = 1.0\n",
      "Data at i = 63 j = 1941 lat = 42.5774 lon = -70.78808 val = 6.6017888e-6 qa_value = 1.0\n",
      "Data at i = 63 j = 1942 lat = 42.63791 lon = -70.82025 val = 1.9147936e-5 qa_value = 1.0\n",
      "Data at i = 63 j = 1943 lat = 42.69842 lon = -70.852455 val = 1.8705634e-5 qa_value = 1.0\n",
      "Data at i = 63 j = 1944 lat = 42.758957 lon = -70.88469 val = 1.5951387e-5 qa_value = 1.0\n",
      "Data at i = 63 j = 1945 lat = 42.81947 lon = -70.91709 val = 8.844588e-6 qa_value = 1.0\n",
      "Data at i = 63 j = 1946 lat = 42.879917 lon = -70.949585 val = 2.0792868e-6 qa_value = 1.0\n",
      "Data at i = 63 j = 1947 lat = 42.940395 lon = -70.982124 val = 3.9723714e-6 qa_value = 1.0\n"
     ]
    },
    {
     "name": "stdout",
     "output_type": "stream",
     "text": [
      "Data at i = 64 j = 1931 lat = 42.004314 lon = -70.387665 val = 7.0606866e-6 qa_value = 1.0\n",
      "Data at i = 64 j = 1932 lat = 42.064957 lon = -70.41913 val = -4.807221e-6 qa_value = 1.0\n",
      "Data at i = 64 j = 1933 lat = 42.1256 lon = -70.45071 val = -3.3360553e-5 qa_value = 0.74\n",
      "Data at i = 64 j = 1935 lat = 42.24683 lon = -70.51397 val = 1.0019642e-5 qa_value = 1.0\n",
      "Data at i = 64 j = 1936 lat = 42.30744 lon = -70.5457 val = 1.256393e-5 qa_value = 1.0\n",
      "Data at i = 64 j = 1937 lat = 42.36804 lon = -70.57749 val = 2.5062305e-5 qa_value = 1.0\n",
      "Data at i = 64 j = 1938 lat = 42.428623 lon = -70.60932 val = 2.4940458e-5 qa_value = 1.0\n",
      "Data at i = 64 j = 1939 lat = 42.489204 lon = -70.64128 val = 1.4821909e-5 qa_value = 1.0\n",
      "Data at i = 64 j = 1940 lat = 42.549767 lon = -70.6733 val = 7.815837e-6 qa_value = 1.0\n",
      "Data at i = 64 j = 1941 lat = 42.610317 lon = -70.70537 val = 9.562676e-6 qa_value = 1.0\n",
      "Data at i = 64 j = 1942 lat = 42.670853 lon = -70.73748 val = 7.2913995e-6 qa_value = 1.0\n",
      "Data at i = 64 j = 1943 lat = 42.731388 lon = -70.76962 val = 1.3770494e-5 qa_value = 1.0\n",
      "Data at i = 64 j = 1944 lat = 42.79195 lon = -70.801796 val = 1.0051736e-5 qa_value = 1.0\n",
      "Data at i = 64 j = 1945 lat = 42.852486 lon = -70.83413 val = 3.6255071e-6 qa_value = 1.0\n",
      "Data at i = 64 j = 1946 lat = 42.91296 lon = -70.866554 val = 1.7087286e-5 qa_value = 1.0\n",
      "Data at i = 64 j = 1947 lat = 42.97346 lon = -70.89903 val = 3.0481783e-6 qa_value = 1.0\n",
      "Data at i = 65 j = 1931 lat = 42.036522 lon = -70.3064 val = -2.5240975e-6 qa_value = 1.0\n",
      "Data at i = 65 j = 1932 lat = 42.097187 lon = -70.33781 val = 1.1642422e-5 qa_value = 0.74\n",
      "Data at i = 65 j = 1933 lat = 42.157852 lon = -70.36932 val = 5.185477e-6 qa_value = 0.74\n",
      "Data at i = 65 j = 1934 lat = 42.218506 lon = -70.40084 val = 1.9221949e-5 qa_value = 0.74\n",
      "Data at i = 65 j = 1935 lat = 42.279133 lon = -70.43246 val = 2.3440358e-5 qa_value = 1.0\n",
      "Data at i = 65 j = 1936 lat = 42.339767 lon = -70.46413 val = 6.333902e-6 qa_value = 1.0\n",
      "Data at i = 65 j = 1937 lat = 42.40039 lon = -70.49586 val = 1.817399e-5 qa_value = 1.0\n",
      "Data at i = 65 j = 1938 lat = 42.460995 lon = -70.52762 val = 8.893061e-6 qa_value = 1.0\n",
      "Data at i = 65 j = 1939 lat = 42.521606 lon = -70.559525 val = 8.375316e-6 qa_value = 0.9\n",
      "Data at i = 65 j = 1940 lat = 42.582188 lon = -70.59148 val = 1.1015929e-5 qa_value = 0.9\n",
      "Data at i = 65 j = 1941 lat = 42.642765 lon = -70.62348 val = 1.3735844e-5 qa_value = 0.9\n",
      "Data at i = 65 j = 1942 lat = 42.703323 lon = -70.65553 val = 5.7521333e-6 qa_value = 1.0\n",
      "Data at i = 65 j = 1943 lat = 42.763885 lon = -70.68761 val = 4.9430723e-6 qa_value = 1.0\n",
      "Data at i = 65 j = 1944 lat = 42.82447 lon = -70.71972 val = 8.660282e-6 qa_value = 1.0\n",
      "Data at i = 65 j = 1945 lat = 42.885033 lon = -70.75199 val = 4.4489398e-6 qa_value = 1.0\n",
      "Data at i = 65 j = 1946 lat = 42.94553 lon = -70.78435 val = 1.1816737e-5 qa_value = 1.0\n",
      "Data at i = 66 j = 1930 lat = 42.007557 lon = -70.19472 val = 2.220984e-5 qa_value = 1.0\n",
      "Data at i = 66 j = 1931 lat = 42.068275 lon = -70.22594 val = -1.0232151e-5 qa_value = 1.0\n",
      "Data at i = 66 j = 1932 lat = 42.12896 lon = -70.25728 val = -1.7626571e-5 qa_value = 0.74\n",
      "Data at i = 66 j = 1933 lat = 42.18965 lon = -70.288734 val = 4.09853e-6 qa_value = 0.74\n",
      "Data at i = 66 j = 1934 lat = 42.250328 lon = -70.32019 val = 6.767595e-5 qa_value = 0.74\n",
      "Data at i = 66 j = 1935 lat = 42.31098 lon = -70.351746 val = 1.4348256e-5 qa_value = 1.0\n",
      "Data at i = 66 j = 1936 lat = 42.37164 lon = -70.383354 val = 7.782603e-6 qa_value = 1.0\n",
      "Data at i = 66 j = 1937 lat = 42.432285 lon = -70.41502 val = 5.763801e-6 qa_value = 1.0\n",
      "Data at i = 66 j = 1938 lat = 42.492916 lon = -70.446724 val = 2.1401094e-5 qa_value = 1.0\n",
      "Data at i = 66 j = 1939 lat = 42.553547 lon = -70.47856 val = -5.8926986e-7 qa_value = 0.9\n",
      "Data at i = 66 j = 1940 lat = 42.614155 lon = -70.51045 val = 1.4264517e-5 qa_value = 0.9\n",
      "Data at i = 66 j = 1941 lat = 42.67476 lon = -70.5424 val = 7.953513e-6 qa_value = 0.9\n",
      "Data at i = 66 j = 1942 lat = 42.73534 lon = -70.57438 val = 5.6987205e-6 qa_value = 0.9\n",
      "Data at i = 66 j = 1943 lat = 42.795925 lon = -70.6064 val = 2.344513e-6 qa_value = 0.9\n",
      "Data at i = 66 j = 1944 lat = 42.856533 lon = -70.63844 val = 1.831813e-5 qa_value = 1.0\n",
      "Data at i = 66 j = 1945 lat = 42.917118 lon = -70.670654 val = 7.209991e-6 qa_value = 1.0\n",
      "Data at i = 66 j = 1946 lat = 42.977642 lon = -70.70295 val = 1.80386e-5 qa_value = 1.0\n",
      "Data at i = 67 j = 1930 lat = 42.038845 lon = -70.11509 val = 5.447085e-6 qa_value = 1.0\n",
      "Data at i = 67 j = 1931 lat = 42.099583 lon = -70.14625 val = 8.595814e-6 qa_value = 1.0\n",
      "Data at i = 67 j = 1932 lat = 42.160294 lon = -70.177536 val = -9.650032e-6 qa_value = 0.74\n",
      "Data at i = 67 j = 1933 lat = 42.221004 lon = -70.20892 val = -3.951882e-6 qa_value = 0.74\n",
      "Data at i = 67 j = 1934 lat = 42.281708 lon = -70.240326 val = 2.6843327e-5 qa_value = 0.74\n",
      "Data at i = 67 j = 1935 lat = 42.34238 lon = -70.27181 val = 3.4709756e-5 qa_value = 1.0\n",
      "Data at i = 67 j = 1936 lat = 42.403065 lon = -70.30336 val = 1.1295318e-5 qa_value = 1.0\n",
      "Data at i = 67 j = 1937 lat = 42.463734 lon = -70.33497 val = 2.2389173e-5 qa_value = 1.0\n",
      "Data at i = 67 j = 1938 lat = 42.524387 lon = -70.36661 val = 1.1324453e-5 qa_value = 1.0\n",
      "Data at i = 67 j = 1939 lat = 42.58504 lon = -70.398384 val = 3.8235435e-6 qa_value = 1.0\n",
      "Data at i = 67 j = 1940 lat = 42.645676 lon = -70.430214 val = 5.105755e-6 qa_value = 0.66999996\n",
      "Data at i = 67 j = 1941 lat = 42.7063 lon = -70.46209 val = 3.6465983e-5 qa_value = 0.66999996\n",
      "Data at i = 67 j = 1942 lat = 42.766907 lon = -70.49401 val = 4.4720266e-5 qa_value = 0.9\n",
      "Data at i = 67 j = 1943 lat = 42.82752 lon = -70.52597 val = 2.1541706e-5 qa_value = 0.9\n",
      "Data at i = 67 j = 1944 lat = 42.88815 lon = -70.55795 val = 5.2403693e-6 qa_value = 0.9\n",
      "Data at i = 67 j = 1945 lat = 42.948757 lon = -70.590096 val = 1.340795e-5 qa_value = 1.0\n",
      "Data at i = 68 j = 1929 lat = 42.008957 lon = -70.00507 val = 1.0044424e-6 qa_value = 1.0\n",
      "Data at i = 68 j = 1930 lat = 42.0697 lon = -70.03623 val = 1.5391977e-5 qa_value = 1.0\n",
      "Data at i = 68 j = 1931 lat = 42.13046 lon = -70.06733 val = -1.0415717e-5 qa_value = 1.0\n",
      "Data at i = 68 j = 1932 lat = 42.19119 lon = -70.09855 val = -1.8421422e-5 qa_value = 0.74\n",
      "Data at i = 68 j = 1933 lat = 42.251926 lon = -70.12988 val = 3.5341724e-5 qa_value = 0.74\n",
      "Data at i = 68 j = 1934 lat = 42.31265 lon = -70.16122 val = 1.2920676e-5 qa_value = 1.0\n",
      "Data at i = 68 j = 1935 lat = 42.37335 lon = -70.19265 val = 1.7787319e-5 qa_value = 1.0\n",
      "Data at i = 68 j = 1936 lat = 42.43405 lon = -70.22413 val = 1.8788884e-5 qa_value = 1.0\n",
      "Data at i = 68 j = 1937 lat = 42.494743 lon = -70.25568 val = 2.4519657e-5 qa_value = 1.0\n",
      "Data at i = 68 j = 1938 lat = 42.555424 lon = -70.287254 val = 2.6873015e-6 qa_value = 1.0\n",
      "Data at i = 68 j = 1939 lat = 42.616104 lon = -70.31897 val = 8.554148e-6 qa_value = 1.0\n",
      "Data at i = 68 j = 1940 lat = 42.676758 lon = -70.35074 val = -1.7647793e-5 qa_value = 0.74\n",
      "Data at i = 68 j = 1941 lat = 42.737408 lon = -70.38255 val = -4.1574835e-6 qa_value = 0.74\n",
      "Data at i = 68 j = 1942 lat = 42.798035 lon = -70.41441 val = 4.604113e-5 qa_value = 0.74\n",
      "Data at i = 68 j = 1943 lat = 42.85867 lon = -70.446304 val = 2.9694207e-5 qa_value = 0.66999996\n",
      "Data at i = 68 j = 1944 lat = 42.919323 lon = -70.478226 val = 1.02212725e-5 qa_value = 0.9\n",
      "Data at i = 68 j = 1945 lat = 42.979958 lon = -70.51031 val = 1.1828674e-5 qa_value = 1.0\n",
      "Data at i = 69 j = 1932 lat = 42.221664 lon = -70.02031 val = 6.620967e-6 qa_value = 0.74\n",
      "Data at i = 69 j = 1933 lat = 42.282425 lon = -70.05158 val = 1.4977824e-5 qa_value = 0.74\n",
      "Data at i = 69 j = 1934 lat = 42.34317 lon = -70.082855 val = 7.0662536e-6 qa_value = 1.0\n",
      "Data at i = 69 j = 1935 lat = 42.403893 lon = -70.11423 val = -5.521099e-7 qa_value = 1.0\n",
      "Data at i = 69 j = 1936 lat = 42.46462 lon = -70.145645 val = 8.475189e-6 qa_value = 1.0\n",
      "Data at i = 69 j = 1937 lat = 42.525333 lon = -70.17713 val = 1.5322501e-5 qa_value = 1.0\n",
      "Data at i = 69 j = 1938 lat = 42.586033 lon = -70.20865 val = 1.3695872e-5 qa_value = 1.0\n",
      "Data at i = 69 j = 1939 lat = 42.646736 lon = -70.2403 val = 1.566184e-5 qa_value = 0.74\n",
      "Data at i = 69 j = 1940 lat = 42.707417 lon = -70.27201 val = 3.7157283e-6 qa_value = 0.74\n"
     ]
    },
    {
     "name": "stdout",
     "output_type": "stream",
     "text": [
      "Data at i = 69 j = 1941 lat = 42.768085 lon = -70.30376 val = -9.312496e-6 qa_value = 0.74\n",
      "Data at i = 69 j = 1942 lat = 42.82874 lon = -70.335556 val = 4.0314244e-5 qa_value = 0.74\n",
      "Data at i = 69 j = 1943 lat = 42.889397 lon = -70.36739 val = 1.7899305e-5 qa_value = 1.0\n",
      "Data at i = 69 j = 1944 lat = 42.950073 lon = -70.39925 val = 1.2669283e-5 qa_value = 1.0\n",
      "Data at i = 70 j = 1934 lat = 42.373272 lon = -70.005226 val = 1.2392964e-5 qa_value = 1.0\n",
      "Data at i = 70 j = 1935 lat = 42.434017 lon = -70.03653 val = 6.9645394e-6 qa_value = 1.0\n",
      "Data at i = 70 j = 1936 lat = 42.494766 lon = -70.067894 val = 9.469447e-6 qa_value = 1.0\n",
      "Data at i = 70 j = 1937 lat = 42.555504 lon = -70.09932 val = -3.7814827e-6 qa_value = 1.0\n",
      "Data at i = 70 j = 1938 lat = 42.616226 lon = -70.130775 val = 1.1739479e-5 qa_value = 0.74\n",
      "Data at i = 70 j = 1939 lat = 42.676952 lon = -70.16236 val = -8.681617e-6 qa_value = 0.74\n",
      "Data at i = 70 j = 1940 lat = 42.737656 lon = -70.19401 val = 5.804318e-6 qa_value = 0.74\n",
      "Data at i = 70 j = 1941 lat = 42.79835 lon = -70.2257 val = 2.684954e-6 qa_value = 0.74\n",
      "Data at i = 70 j = 1942 lat = 42.859024 lon = -70.25744 val = 2.7910619e-5 qa_value = 0.74\n",
      "Data at i = 70 j = 1943 lat = 42.919704 lon = -70.28921 val = 1.5730013e-5 qa_value = 1.0\n",
      "Data at i = 70 j = 1944 lat = 42.980404 lon = -70.32101 val = 7.2690223e-6 qa_value = 1.0\n",
      "Data at i = 71 j = 1937 lat = 42.58527 lon = -70.02222 val = 5.7997104e-6 qa_value = 0.74\n",
      "Data at i = 71 j = 1938 lat = 42.646015 lon = -70.05361 val = 8.331335e-7 qa_value = 0.74\n",
      "Data at i = 71 j = 1939 lat = 42.706764 lon = -70.085144 val = -1.1310076e-6 qa_value = 0.74\n",
      "Data at i = 71 j = 1940 lat = 42.767487 lon = -70.11673 val = 1.0989233e-5 qa_value = 0.74\n",
      "Data at i = 71 j = 1941 lat = 42.828205 lon = -70.14835 val = 1.833442e-5 qa_value = 1.0\n",
      "Data at i = 71 j = 1942 lat = 42.888905 lon = -70.18003 val = 1.4764078e-5 qa_value = 1.0\n",
      "Data at i = 71 j = 1943 lat = 42.949604 lon = -70.21174 val = 1.7510245e-5 qa_value = 1.0\n",
      "Data at i = 72 j = 1939 lat = 42.736176 lon = -70.00862 val = -7.0344427e-6 qa_value = 0.74\n",
      "Data at i = 72 j = 1941 lat = 42.857662 lon = -70.07171 val = 1.4904785e-5 qa_value = 1.0\n",
      "Data at i = 72 j = 1942 lat = 42.91838 lon = -70.103325 val = 1.6412281e-5 qa_value = 1.0\n",
      "Data at i = 72 j = 1943 lat = 42.979107 lon = -70.13498 val = 1.0859825e-5 qa_value = 1.0\n",
      "Data at i = 73 j = 1942 lat = 42.94747 lon = -70.027306 val = 7.817515e-6 qa_value = 1.0\n",
      "Total of 318 data points saved\n"
     ]
    }
   ],
   "source": [
    "# count(isequal(missing), no2cols) = 2.2e5\n",
    "for i in 1:IM\n",
    "    for j in 1:JM\n",
    "        if isequal(missing, no2cols[i, j, 1]) || qavals[i, j, 1] < 0.5\n",
    "            continue\n",
    "        end\n",
    "        \n",
    "        if lats[i, j, 1] >= 42 && lats[i, j, 1] <= 43 && lons[i, j, 1] >= -72 && lons[i, j, 1] <= -70\n",
    "            push!(output_lons,  lons[i, j, 1])\n",
    "            push!(output_lats,  lats[i, j, 1])\n",
    "            push!(output_no2co, no2cols[i, j, 1])\n",
    "            push!(output_qa,    qavals[i, j, 1])\n",
    "            push!(output_time,  utctimes[j])\n",
    "            println(\"Data at i = \", i, \" j = \", j, \" lat = \", lats[i, j, 1], \" lon = \", lons[i, j, 1], \" val = \", no2cols[i, j, 1], \" qa_value = \", qavals[i, j, 1])\n",
    "        else\n",
    "            continue\n",
    "        end\n",
    "    end\n",
    "end\n",
    "println(\"Total of \", length(output_lons), \" data points saved\")"
   ]
  },
  {
   "cell_type": "code",
   "execution_count": 147,
   "metadata": {},
   "outputs": [
    {
     "data": {
      "text/plain": [
       "Dict{Symbol,Union{Array{Float32,1}, Array{String,1}}} with 5 entries:\n",
       "  :time => [\"2019-07-15T17:02:25.989000Z\", \"2019-07-15T17:02:27.069000Z\", \"2019…\n",
       "  :qa   => Float32[1.0, 1.0, 1.0, 1.0, 1.0, 1.0, 1.0, 1.0, 1.0, 1.0  …  0.74, 0…\n",
       "  :lons => Float32[-71.9146, -71.9476, -71.9807, -71.7864, -71.8193, -71.8522, …\n",
       "  :no2  => Float32[6.67059e-6, 1.754e-5, 5.56224e-6, 1.63574e-5, -2.9939e-6, 8.…\n",
       "  :lats => Float32[42.0408, 42.101, 42.1611, 42.0208, 42.081, 42.1412, 42.2014,…"
      ]
     },
     "execution_count": 147,
     "metadata": {},
     "output_type": "execute_result"
    }
   ],
   "source": [
    "output = Dict{Symbol,Union{Array{Float32, 1}, Array{String, 1}}}(:lats => output_lats, :lons => output_lons, :no2 => output_no2co, :qa => output_qa, :time => output_time)\n",
    "# npzwrite(\"testing_data.npz\", Dict(\"lats\" => output_lats, \"lons\" => output_lons, \"no2\" => output_no2co, \"qa\" => output_qa, \"time\" => output_time))"
   ]
  },
  {
   "cell_type": "code",
   "execution_count": 151,
   "metadata": {},
   "outputs": [
    {
     "data": {
      "text/html": [
       "<table class=\"data-frame\"><thead><tr><th></th><th>time</th><th>qa</th><th>lons</th><th>no2</th><th>lats</th></tr><tr><th></th><th>String</th><th>Float32</th><th>Float32</th><th>Float32</th><th>Float32</th></tr></thead><tbody><p>318 rows × 5 columns</p><tr><th>1</th><td>2019-07-15T17:02:25.989000Z</td><td>1.0</td><td>-71.9146</td><td>6.67059e-6</td><td>42.0408</td></tr><tr><th>2</th><td>2019-07-15T17:02:27.069000Z</td><td>1.0</td><td>-71.9476</td><td>1.754e-5</td><td>42.101</td></tr><tr><th>3</th><td>2019-07-15T17:02:28.149000Z</td><td>1.0</td><td>-71.9807</td><td>5.56224e-6</td><td>42.1611</td></tr><tr><th>4</th><td>2019-07-15T17:02:24.909000Z</td><td>1.0</td><td>-71.7864</td><td>1.63574e-5</td><td>42.0208</td></tr><tr><th>5</th><td>2019-07-15T17:02:25.989000Z</td><td>1.0</td><td>-71.8193</td><td>-2.9939e-6</td><td>42.081</td></tr><tr><th>6</th><td>2019-07-15T17:02:27.069000Z</td><td>1.0</td><td>-71.8522</td><td>8.16743e-7</td><td>42.1412</td></tr><tr><th>7</th><td>2019-07-15T17:02:28.149000Z</td><td>1.0</td><td>-71.8852</td><td>6.06338e-6</td><td>42.2014</td></tr><tr><th>8</th><td>2019-07-15T17:02:29.229000Z</td><td>1.0</td><td>-71.9182</td><td>9.7019e-6</td><td>42.2616</td></tr><tr><th>9</th><td>2019-07-15T17:02:30.309000Z</td><td>1.0</td><td>-71.9512</td><td>6.38016e-6</td><td>42.3218</td></tr><tr><th>10</th><td>2019-07-15T17:02:31.389000Z</td><td>1.0</td><td>-71.9844</td><td>1.49585e-7</td><td>42.3819</td></tr><tr><th>11</th><td>2019-07-15T17:02:23.830000Z</td><td>1.0</td><td>-71.6596</td><td>8.78576e-6</td><td>42.0001</td></tr><tr><th>12</th><td>2019-07-15T17:02:24.909000Z</td><td>1.0</td><td>-71.6923</td><td>2.19037e-5</td><td>42.0603</td></tr><tr><th>13</th><td>2019-07-15T17:02:25.989000Z</td><td>1.0</td><td>-71.7251</td><td>2.05303e-5</td><td>42.1205</td></tr><tr><th>14</th><td>2019-07-15T17:02:27.069000Z</td><td>1.0</td><td>-71.758</td><td>2.28614e-5</td><td>42.1808</td></tr><tr><th>15</th><td>2019-07-15T17:02:28.149000Z</td><td>1.0</td><td>-71.7909</td><td>3.55794e-6</td><td>42.241</td></tr><tr><th>16</th><td>2019-07-15T17:02:29.229000Z</td><td>1.0</td><td>-71.8238</td><td>1.26433e-5</td><td>42.3012</td></tr><tr><th>17</th><td>2019-07-15T17:02:30.309000Z</td><td>1.0</td><td>-71.8568</td><td>-5.68581e-7</td><td>42.3614</td></tr><tr><th>18</th><td>2019-07-15T17:02:31.389000Z</td><td>1.0</td><td>-71.8899</td><td>1.50832e-5</td><td>42.4216</td></tr><tr><th>19</th><td>2019-07-15T17:02:32.469000Z</td><td>1.0</td><td>-71.9231</td><td>2.17532e-5</td><td>42.4818</td></tr><tr><th>20</th><td>2019-07-15T17:02:33.549000Z</td><td>1.0</td><td>-71.9564</td><td>1.07403e-5</td><td>42.5419</td></tr><tr><th>21</th><td>2019-07-15T17:02:34.629000Z</td><td>1.0</td><td>-71.9898</td><td>3.30663e-7</td><td>42.6021</td></tr><tr><th>22</th><td>2019-07-15T17:02:23.830000Z</td><td>1.0</td><td>-71.5666</td><td>1.81164e-5</td><td>42.0389</td></tr><tr><th>23</th><td>2019-07-15T17:02:24.909000Z</td><td>1.0</td><td>-71.5993</td><td>1.75885e-5</td><td>42.0992</td></tr><tr><th>24</th><td>2019-07-15T17:02:25.989000Z</td><td>1.0</td><td>-71.632</td><td>3.17828e-5</td><td>42.1594</td></tr><tr><th>25</th><td>2019-07-15T17:02:27.069000Z</td><td>1.0</td><td>-71.6648</td><td>1.16293e-5</td><td>42.2197</td></tr><tr><th>26</th><td>2019-07-15T17:02:28.149000Z</td><td>1.0</td><td>-71.6977</td><td>7.54389e-6</td><td>42.2799</td></tr><tr><th>27</th><td>2019-07-15T17:02:29.229000Z</td><td>1.0</td><td>-71.7305</td><td>2.54628e-5</td><td>42.3402</td></tr><tr><th>28</th><td>2019-07-15T17:02:30.309000Z</td><td>1.0</td><td>-71.7634</td><td>9.62353e-6</td><td>42.4004</td></tr><tr><th>29</th><td>2019-07-15T17:02:31.389000Z</td><td>1.0</td><td>-71.7965</td><td>1.85497e-5</td><td>42.4607</td></tr><tr><th>30</th><td>2019-07-15T17:02:32.469000Z</td><td>1.0</td><td>-71.8296</td><td>2.37872e-6</td><td>42.5209</td></tr><tr><th>&vellip;</th><td>&vellip;</td><td>&vellip;</td><td>&vellip;</td><td>&vellip;</td><td>&vellip;</td></tr></tbody></table>"
      ],
      "text/latex": [
       "\\begin{tabular}{r|ccccc}\n",
       "\t& time & qa & lons & no2 & lats\\\\\n",
       "\t\\hline\n",
       "\t& String & Float32 & Float32 & Float32 & Float32\\\\\n",
       "\t\\hline\n",
       "\t1 & 2019-07-15T17:02:25.989000Z & 1.0 & -71.9146 & 6.67059e-6 & 42.0408 \\\\\n",
       "\t2 & 2019-07-15T17:02:27.069000Z & 1.0 & -71.9476 & 1.754e-5 & 42.101 \\\\\n",
       "\t3 & 2019-07-15T17:02:28.149000Z & 1.0 & -71.9807 & 5.56224e-6 & 42.1611 \\\\\n",
       "\t4 & 2019-07-15T17:02:24.909000Z & 1.0 & -71.7864 & 1.63574e-5 & 42.0208 \\\\\n",
       "\t5 & 2019-07-15T17:02:25.989000Z & 1.0 & -71.8193 & -2.9939e-6 & 42.081 \\\\\n",
       "\t6 & 2019-07-15T17:02:27.069000Z & 1.0 & -71.8522 & 8.16743e-7 & 42.1412 \\\\\n",
       "\t7 & 2019-07-15T17:02:28.149000Z & 1.0 & -71.8852 & 6.06338e-6 & 42.2014 \\\\\n",
       "\t8 & 2019-07-15T17:02:29.229000Z & 1.0 & -71.9182 & 9.7019e-6 & 42.2616 \\\\\n",
       "\t9 & 2019-07-15T17:02:30.309000Z & 1.0 & -71.9512 & 6.38016e-6 & 42.3218 \\\\\n",
       "\t10 & 2019-07-15T17:02:31.389000Z & 1.0 & -71.9844 & 1.49585e-7 & 42.3819 \\\\\n",
       "\t11 & 2019-07-15T17:02:23.830000Z & 1.0 & -71.6596 & 8.78576e-6 & 42.0001 \\\\\n",
       "\t12 & 2019-07-15T17:02:24.909000Z & 1.0 & -71.6923 & 2.19037e-5 & 42.0603 \\\\\n",
       "\t13 & 2019-07-15T17:02:25.989000Z & 1.0 & -71.7251 & 2.05303e-5 & 42.1205 \\\\\n",
       "\t14 & 2019-07-15T17:02:27.069000Z & 1.0 & -71.758 & 2.28614e-5 & 42.1808 \\\\\n",
       "\t15 & 2019-07-15T17:02:28.149000Z & 1.0 & -71.7909 & 3.55794e-6 & 42.241 \\\\\n",
       "\t16 & 2019-07-15T17:02:29.229000Z & 1.0 & -71.8238 & 1.26433e-5 & 42.3012 \\\\\n",
       "\t17 & 2019-07-15T17:02:30.309000Z & 1.0 & -71.8568 & -5.68581e-7 & 42.3614 \\\\\n",
       "\t18 & 2019-07-15T17:02:31.389000Z & 1.0 & -71.8899 & 1.50832e-5 & 42.4216 \\\\\n",
       "\t19 & 2019-07-15T17:02:32.469000Z & 1.0 & -71.9231 & 2.17532e-5 & 42.4818 \\\\\n",
       "\t20 & 2019-07-15T17:02:33.549000Z & 1.0 & -71.9564 & 1.07403e-5 & 42.5419 \\\\\n",
       "\t21 & 2019-07-15T17:02:34.629000Z & 1.0 & -71.9898 & 3.30663e-7 & 42.6021 \\\\\n",
       "\t22 & 2019-07-15T17:02:23.830000Z & 1.0 & -71.5666 & 1.81164e-5 & 42.0389 \\\\\n",
       "\t23 & 2019-07-15T17:02:24.909000Z & 1.0 & -71.5993 & 1.75885e-5 & 42.0992 \\\\\n",
       "\t24 & 2019-07-15T17:02:25.989000Z & 1.0 & -71.632 & 3.17828e-5 & 42.1594 \\\\\n",
       "\t25 & 2019-07-15T17:02:27.069000Z & 1.0 & -71.6648 & 1.16293e-5 & 42.2197 \\\\\n",
       "\t26 & 2019-07-15T17:02:28.149000Z & 1.0 & -71.6977 & 7.54389e-6 & 42.2799 \\\\\n",
       "\t27 & 2019-07-15T17:02:29.229000Z & 1.0 & -71.7305 & 2.54628e-5 & 42.3402 \\\\\n",
       "\t28 & 2019-07-15T17:02:30.309000Z & 1.0 & -71.7634 & 9.62353e-6 & 42.4004 \\\\\n",
       "\t29 & 2019-07-15T17:02:31.389000Z & 1.0 & -71.7965 & 1.85497e-5 & 42.4607 \\\\\n",
       "\t30 & 2019-07-15T17:02:32.469000Z & 1.0 & -71.8296 & 2.37872e-6 & 42.5209 \\\\\n",
       "\t$\\dots$ & $\\dots$ & $\\dots$ & $\\dots$ & $\\dots$ & $\\dots$ \\\\\n",
       "\\end{tabular}\n"
      ],
      "text/plain": [
       "318×5 DataFrame. Omitted printing of 1 columns\n",
       "│ Row │ time                        │ qa      │ lons     │ no2         │\n",
       "│     │ \u001b[90mString\u001b[39m                      │ \u001b[90mFloat32\u001b[39m │ \u001b[90mFloat32\u001b[39m  │ \u001b[90mFloat32\u001b[39m     │\n",
       "├─────┼─────────────────────────────┼─────────┼──────────┼─────────────┤\n",
       "│ 1   │ 2019-07-15T17:02:25.989000Z │ 1.0     │ -71.9146 │ 6.67059e-6  │\n",
       "│ 2   │ 2019-07-15T17:02:27.069000Z │ 1.0     │ -71.9476 │ 1.754e-5    │\n",
       "│ 3   │ 2019-07-15T17:02:28.149000Z │ 1.0     │ -71.9807 │ 5.56224e-6  │\n",
       "│ 4   │ 2019-07-15T17:02:24.909000Z │ 1.0     │ -71.7864 │ 1.63574e-5  │\n",
       "│ 5   │ 2019-07-15T17:02:25.989000Z │ 1.0     │ -71.8193 │ -2.9939e-6  │\n",
       "│ 6   │ 2019-07-15T17:02:27.069000Z │ 1.0     │ -71.8522 │ 8.16743e-7  │\n",
       "│ 7   │ 2019-07-15T17:02:28.149000Z │ 1.0     │ -71.8852 │ 6.06338e-6  │\n",
       "│ 8   │ 2019-07-15T17:02:29.229000Z │ 1.0     │ -71.9182 │ 9.7019e-6   │\n",
       "│ 9   │ 2019-07-15T17:02:30.309000Z │ 1.0     │ -71.9512 │ 6.38016e-6  │\n",
       "│ 10  │ 2019-07-15T17:02:31.389000Z │ 1.0     │ -71.9844 │ 1.49585e-7  │\n",
       "⋮\n",
       "│ 308 │ 2019-07-15T17:02:23.830000Z │ 0.74    │ -70.0536 │ 8.33134e-7  │\n",
       "│ 309 │ 2019-07-15T17:02:24.909000Z │ 0.74    │ -70.0851 │ -1.13101e-6 │\n",
       "│ 310 │ 2019-07-15T17:02:25.989000Z │ 0.74    │ -70.1167 │ 1.09892e-5  │\n",
       "│ 311 │ 2019-07-15T17:02:27.069000Z │ 1.0     │ -70.1484 │ 1.83344e-5  │\n",
       "│ 312 │ 2019-07-15T17:02:28.149000Z │ 1.0     │ -70.18   │ 1.47641e-5  │\n",
       "│ 313 │ 2019-07-15T17:02:29.229000Z │ 1.0     │ -70.2117 │ 1.75102e-5  │\n",
       "│ 314 │ 2019-07-15T17:02:24.909000Z │ 0.74    │ -70.0086 │ -7.03444e-6 │\n",
       "│ 315 │ 2019-07-15T17:02:27.069000Z │ 1.0     │ -70.0717 │ 1.49048e-5  │\n",
       "│ 316 │ 2019-07-15T17:02:28.149000Z │ 1.0     │ -70.1033 │ 1.64123e-5  │\n",
       "│ 317 │ 2019-07-15T17:02:29.229000Z │ 1.0     │ -70.135  │ 1.08598e-5  │\n",
       "│ 318 │ 2019-07-15T17:02:28.149000Z │ 1.0     │ -70.0273 │ 7.81752e-6  │"
      ]
     },
     "execution_count": 151,
     "metadata": {},
     "output_type": "execute_result"
    }
   ],
   "source": [
    "using DataFrames\n",
    "using CSV\n",
    "output_df = DataFrame(;output...)"
   ]
  },
  {
   "cell_type": "code",
   "execution_count": 152,
   "metadata": {},
   "outputs": [
    {
     "data": {
      "text/plain": [
       "\"test_output.csv\""
      ]
     },
     "execution_count": 152,
     "metadata": {},
     "output_type": "execute_result"
    }
   ],
   "source": [
    "CSV.write(\"test_output.csv\",  DataFrame(output_df), writeheader=true)"
   ]
  },
  {
   "cell_type": "code",
   "execution_count": 37,
   "metadata": {},
   "outputs": [
    {
     "data": {
      "text/plain": [
       "2"
      ]
     },
     "execution_count": 37,
     "metadata": {},
     "output_type": "execute_result"
    }
   ],
   "source": [
    "# dim'l: 450 × 3245 × 1\n",
    "count(x -> x > 0, [1 -1 2 -3])"
   ]
  },
  {
   "cell_type": "code",
   "execution_count": 41,
   "metadata": {},
   "outputs": [],
   "source": [
    "spatialMask = (prod[\"longitude\"] .>= -72) .& (prod[\"longitude\"] .<= -70) .& (prod[\"latitude\"] .>= 42) .& (prod[\"latitude\"] .<= 43);\n",
    " # -72 ~ -70 long degrees_east"
   ]
  },
  {
   "cell_type": "code",
   "execution_count": 48,
   "metadata": {},
   "outputs": [
    {
     "data": {
      "text/plain": [
       "false"
      ]
     },
     "execution_count": 48,
     "metadata": {},
     "output_type": "execute_result"
    }
   ],
   "source": [
    "spatialMask[1,848,1]"
   ]
  },
  {
   "cell_type": "code",
   "execution_count": 40,
   "metadata": {},
   "outputs": [
    {
     "data": {
      "text/plain": [
       "0"
      ]
     },
     "execution_count": 40,
     "metadata": {},
     "output_type": "execute_result"
    }
   ],
   "source": [
    "count(x -> x == true, spatialMask)"
   ]
  },
  {
   "cell_type": "code",
   "execution_count": null,
   "metadata": {},
   "outputs": [],
   "source": [
    "output_lons = []\n",
    "output_"
   ]
  }
 ],
 "metadata": {
  "kernelspec": {
   "display_name": "Julia 1.2.0",
   "language": "julia",
   "name": "julia-1.2"
  },
  "language_info": {
   "file_extension": ".jl",
   "mimetype": "application/julia",
   "name": "julia",
   "version": "1.2.0"
  }
 },
 "nbformat": 4,
 "nbformat_minor": 2
}
