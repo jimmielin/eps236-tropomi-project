{
 "cells": [
  {
   "cell_type": "code",
   "execution_count": 15,
   "metadata": {},
   "outputs": [
    {
     "data": {
      "text/plain": [
       "Plots.GRBackend()"
      ]
     },
     "execution_count": 15,
     "metadata": {},
     "output_type": "execute_result"
    }
   ],
   "source": [
    "using DataFrames\n",
    "using CSV\n",
    "using Plots\n",
    "using Dates\n",
    "gr()"
   ]
  },
  {
   "cell_type": "code",
   "execution_count": 3,
   "metadata": {},
   "outputs": [
    {
     "data": {
      "text/plain": [
       "\"C:\\\\Users\\\\Jimmie\\\\julia\\\\eps236f\""
      ]
     },
     "execution_count": 3,
     "metadata": {},
     "output_type": "execute_result"
    }
   ],
   "source": [
    "pwd()"
   ]
  },
  {
   "cell_type": "code",
   "execution_count": 73,
   "metadata": {},
   "outputs": [],
   "source": [
    "pandora = CSV.read(\"Pandora155.csv\"; copycols=true);\n",
    "tropomi = CSV.read(\"total_output_2019_11_14.csv\"; copycols=true);"
   ]
  },
  {
   "cell_type": "code",
   "execution_count": 74,
   "metadata": {},
   "outputs": [
    {
     "name": "stdout",
     "output_type": "stream",
     "text": [
      "first(pandora, 2) = 2×9 DataFrame\n",
      "│ Row │ Year  │ Month │ Day   │ Hour  │ Minute │ timestamp │ VCD(DU) │ UNCERTAINTY(DU) │ SZA     │\n",
      "│     │ Int64 │ Int64 │ Int64 │ Int64 │ Int64  │ Int64     │ Float64 │ Float64         │ Float64 │\n",
      "├─────┼───────┼───────┼───────┼───────┼────────┼───────────┼─────────┼─────────────────┼─────────┤\n",
      "│ 1   │ 2019  │ 6     │ 27    │ 14    │ 58     │ 1         │ 0.82915 │ 0.0035108       │ 29.58   │\n",
      "│ 2   │ 2019  │ 6     │ 27    │ 15    │ 2      │ 1         │ 0.71166 │ 0.0046338       │ 28.86   │\n",
      "first(tropomi, 2) = 2×6 DataFrame\n",
      "│ Row │ time                        │ qa      │ lons     │ no2     │ lats    │ timestamp │\n",
      "│     │ String                      │ Float64 │ Float64  │ Float64 │ Float64 │ Int64     │\n",
      "├─────┼─────────────────────────────┼─────────┼──────────┼─────────┼─────────┼───────────┤\n",
      "│ 1   │ 2019-07-15T17:02:25.989000Z │ 1.0     │ -71.9146 │ 6.67e-6 │ 42.0408 │ 1         │\n",
      "│ 2   │ 2019-07-15T17:02:27.069000Z │ 1.0     │ -71.9476 │ 1.75e-5 │ 42.101  │ 1         │\n"
     ]
    }
   ],
   "source": [
    "@show first(pandora, 2);\n",
    "@show first(tropomi, 2);"
   ]
  },
  {
   "cell_type": "code",
   "execution_count": 75,
   "metadata": {},
   "outputs": [],
   "source": [
    "for row in eachrow(pandora)\n",
    "    row[:timestamp] = trunc(Int64, Dates.datetime2unix(DateTime(row[:Year], row[:Month], row[:Day], row[:Hour], row[:Minute], 0)))\n",
    "end\n",
    "\n",
    "for row in eachrow(tropomi)\n",
    "    row[:timestamp] = trunc(Int64, Dates.datetime2unix(DateTime(split(row[:time], \".\")[1], \"yyyy-mm-ddTHH:MM:SS\")))\n",
    "end"
   ]
  },
  {
   "cell_type": "code",
   "execution_count": 79,
   "metadata": {
    "scrolled": true
   },
   "outputs": [
    {
     "name": "stdout",
     "output_type": "stream",
     "text": [
      "first(pandora, 2) = 2×9 DataFrame\n",
      "│ Row │ Year  │ Month │ Day   │ Hour  │ Minute │ timestamp  │ VCD(DU) │ UNCERTAINTY(DU) │ SZA     │\n",
      "│     │ Int64 │ Int64 │ Int64 │ Int64 │ Int64  │ Int64      │ Float64 │ Float64         │ Float64 │\n",
      "├─────┼───────┼───────┼───────┼───────┼────────┼────────────┼─────────┼─────────────────┼─────────┤\n",
      "│ 1   │ 2019  │ 6     │ 27    │ 14    │ 58     │ 1561647480 │ 0.82915 │ 0.0035108       │ 29.58   │\n",
      "│ 2   │ 2019  │ 6     │ 27    │ 15    │ 2      │ 1561647720 │ 0.71166 │ 0.0046338       │ 28.86   │\n",
      "first(tropomi, 10) = 10×6 DataFrame\n",
      "│ Row │ time                        │ qa      │ lons     │ no2      │ lats    │ timestamp  │\n",
      "│     │ String                      │ Float64 │ Float64  │ Float64  │ Float64 │ Int64      │\n",
      "├─────┼─────────────────────────────┼─────────┼──────────┼──────────┼─────────┼────────────┤\n",
      "│ 1   │ 2019-07-15T17:02:25.989000Z │ 1.0     │ -71.9146 │ 6.67e-6  │ 42.0408 │ 1563210145 │\n",
      "│ 2   │ 2019-07-15T17:02:27.069000Z │ 1.0     │ -71.9476 │ 1.75e-5  │ 42.101  │ 1563210147 │\n",
      "│ 3   │ 2019-07-15T17:02:28.149000Z │ 1.0     │ -71.9806 │ 5.56e-6  │ 42.1611 │ 1563210148 │\n",
      "│ 4   │ 2019-07-15T17:02:24.909000Z │ 1.0     │ -71.7864 │ 1.64e-5  │ 42.0208 │ 1563210144 │\n",
      "│ 5   │ 2019-07-15T17:02:25.989000Z │ 1.0     │ -71.8193 │ -2.99e-6 │ 42.081  │ 1563210145 │\n",
      "│ 6   │ 2019-07-15T17:02:27.069000Z │ 1.0     │ -71.8522 │ 8.17e-7  │ 42.1412 │ 1563210147 │\n",
      "│ 7   │ 2019-07-15T17:02:28.149000Z │ 1.0     │ -71.8852 │ 6.06e-6  │ 42.2014 │ 1563210148 │\n",
      "│ 8   │ 2019-07-15T17:02:29.229000Z │ 1.0     │ -71.9182 │ 9.7e-6   │ 42.2616 │ 1563210149 │\n",
      "│ 9   │ 2019-07-15T17:02:30.309000Z │ 1.0     │ -71.9512 │ 6.38e-6  │ 42.3218 │ 1563210150 │\n",
      "│ 10  │ 2019-07-15T17:02:31.389000Z │ 1.0     │ -71.9844 │ 1.5e-7   │ 42.3819 │ 1563210151 │\n"
     ]
    }
   ],
   "source": [
    "@show first(pandora, 2);\n",
    "@show first(tropomi, 10);"
   ]
  },
  {
   "cell_type": "code",
   "execution_count": 77,
   "metadata": {},
   "outputs": [
    {
     "data": {
      "text/plain": [
       "\"pandora_timed_2019_11_16.csv\""
      ]
     },
     "execution_count": 77,
     "metadata": {},
     "output_type": "execute_result"
    }
   ],
   "source": [
    "CSV.write(\"pandora_timed_2019_11_16.csv\",  DataFrame(pandora), writeheader=true)"
   ]
  },
  {
   "cell_type": "code",
   "execution_count": 78,
   "metadata": {},
   "outputs": [
    {
     "data": {
      "text/plain": [
       "\"tropomi_timed_2019_11_16.csv\""
      ]
     },
     "execution_count": 78,
     "metadata": {},
     "output_type": "execute_result"
    }
   ],
   "source": [
    "CSV.write(\"tropomi_timed_2019_11_16.csv\",  DataFrame(tropomi), writeheader=true)"
   ]
  }
 ],
 "metadata": {
  "kernelspec": {
   "display_name": "Julia 1.2.0",
   "language": "julia",
   "name": "julia-1.2"
  },
  "language_info": {
   "file_extension": ".jl",
   "mimetype": "application/julia",
   "name": "julia",
   "version": "1.2.0"
  }
 },
 "nbformat": 4,
 "nbformat_minor": 2
}
